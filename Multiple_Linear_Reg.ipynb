{
 "cells": [
  {
   "cell_type": "code",
   "execution_count": 212,
   "id": "56c541c7-055b-4395-8358-04771e1c83ac",
   "metadata": {},
   "outputs": [],
   "source": [
    "import pandas as pd \n",
    "dataset = pd.read_csv(\"flat-prices.csv\")"
   ]
  },
  {
   "cell_type": "code",
   "execution_count": 213,
   "id": "07821426-8f00-4519-93d6-49d79226c985",
   "metadata": {},
   "outputs": [
    {
     "name": "stdout",
     "output_type": "stream",
     "text": [
      "<class 'pandas.core.frame.DataFrame'>\n",
      "RangeIndex: 287196 entries, 0 to 287195\n",
      "Data columns (total 10 columns):\n",
      " #   Column               Non-Null Count   Dtype  \n",
      "---  ------               --------------   -----  \n",
      " 0   month                287196 non-null  object \n",
      " 1   town                 287196 non-null  object \n",
      " 2   flat_type            287196 non-null  object \n",
      " 3   block                287196 non-null  object \n",
      " 4   street_name          287196 non-null  object \n",
      " 5   storey_range         287196 non-null  object \n",
      " 6   floor_area_sqm       287196 non-null  float64\n",
      " 7   flat_model           287196 non-null  object \n",
      " 8   lease_commence_date  287196 non-null  int64  \n",
      " 9   resale_price         287196 non-null  int64  \n",
      "dtypes: float64(1), int64(2), object(7)\n",
      "memory usage: 21.9+ MB\n"
     ]
    }
   ],
   "source": [
    "dataset.info()"
   ]
  },
  {
   "cell_type": "code",
   "execution_count": 214,
   "id": "eb78a5ca-6235-49e5-a791-5503d2f1336c",
   "metadata": {},
   "outputs": [],
   "source": [
    "# dataset['month'] = dataset.month.apply(lambda x: int(x.split('-')[0]) + int(x.split('-')[1]))"
   ]
  },
  {
   "cell_type": "code",
   "execution_count": 215,
   "id": "cbc42020-21f4-4cb8-bc5a-2cc7b1a719f7",
   "metadata": {},
   "outputs": [
    {
     "data": {
      "text/html": [
       "<div>\n",
       "<style scoped>\n",
       "    .dataframe tbody tr th:only-of-type {\n",
       "        vertical-align: middle;\n",
       "    }\n",
       "\n",
       "    .dataframe tbody tr th {\n",
       "        vertical-align: top;\n",
       "    }\n",
       "\n",
       "    .dataframe thead th {\n",
       "        text-align: right;\n",
       "    }\n",
       "</style>\n",
       "<table border=\"1\" class=\"dataframe\">\n",
       "  <thead>\n",
       "    <tr style=\"text-align: right;\">\n",
       "      <th></th>\n",
       "      <th>month</th>\n",
       "      <th>town</th>\n",
       "      <th>flat_type</th>\n",
       "      <th>block</th>\n",
       "      <th>street_name</th>\n",
       "      <th>storey_range</th>\n",
       "      <th>floor_area_sqm</th>\n",
       "      <th>flat_model</th>\n",
       "      <th>lease_commence_date</th>\n",
       "      <th>resale_price</th>\n",
       "    </tr>\n",
       "  </thead>\n",
       "  <tbody>\n",
       "    <tr>\n",
       "      <th>0</th>\n",
       "      <td>1990-01</td>\n",
       "      <td>ANG MO KIO</td>\n",
       "      <td>1 ROOM</td>\n",
       "      <td>309</td>\n",
       "      <td>ANG MO KIO AVE 1</td>\n",
       "      <td>10 TO 12</td>\n",
       "      <td>31.0</td>\n",
       "      <td>IMPROVED</td>\n",
       "      <td>1977</td>\n",
       "      <td>9000</td>\n",
       "    </tr>\n",
       "    <tr>\n",
       "      <th>1</th>\n",
       "      <td>1990-01</td>\n",
       "      <td>ANG MO KIO</td>\n",
       "      <td>1 ROOM</td>\n",
       "      <td>309</td>\n",
       "      <td>ANG MO KIO AVE 1</td>\n",
       "      <td>04 TO 06</td>\n",
       "      <td>31.0</td>\n",
       "      <td>IMPROVED</td>\n",
       "      <td>1977</td>\n",
       "      <td>6000</td>\n",
       "    </tr>\n",
       "    <tr>\n",
       "      <th>2</th>\n",
       "      <td>1990-01</td>\n",
       "      <td>ANG MO KIO</td>\n",
       "      <td>1 ROOM</td>\n",
       "      <td>309</td>\n",
       "      <td>ANG MO KIO AVE 1</td>\n",
       "      <td>10 TO 12</td>\n",
       "      <td>31.0</td>\n",
       "      <td>IMPROVED</td>\n",
       "      <td>1977</td>\n",
       "      <td>8000</td>\n",
       "    </tr>\n",
       "    <tr>\n",
       "      <th>3</th>\n",
       "      <td>1990-01</td>\n",
       "      <td>ANG MO KIO</td>\n",
       "      <td>1 ROOM</td>\n",
       "      <td>309</td>\n",
       "      <td>ANG MO KIO AVE 1</td>\n",
       "      <td>07 TO 09</td>\n",
       "      <td>31.0</td>\n",
       "      <td>IMPROVED</td>\n",
       "      <td>1977</td>\n",
       "      <td>6000</td>\n",
       "    </tr>\n",
       "    <tr>\n",
       "      <th>4</th>\n",
       "      <td>1990-01</td>\n",
       "      <td>ANG MO KIO</td>\n",
       "      <td>3 ROOM</td>\n",
       "      <td>216</td>\n",
       "      <td>ANG MO KIO AVE 1</td>\n",
       "      <td>04 TO 06</td>\n",
       "      <td>73.0</td>\n",
       "      <td>NEW GENERATION</td>\n",
       "      <td>1976</td>\n",
       "      <td>47200</td>\n",
       "    </tr>\n",
       "    <tr>\n",
       "      <th>...</th>\n",
       "      <td>...</td>\n",
       "      <td>...</td>\n",
       "      <td>...</td>\n",
       "      <td>...</td>\n",
       "      <td>...</td>\n",
       "      <td>...</td>\n",
       "      <td>...</td>\n",
       "      <td>...</td>\n",
       "      <td>...</td>\n",
       "      <td>...</td>\n",
       "    </tr>\n",
       "    <tr>\n",
       "      <th>287191</th>\n",
       "      <td>1999-12</td>\n",
       "      <td>YISHUN</td>\n",
       "      <td>EXECUTIVE</td>\n",
       "      <td>611</td>\n",
       "      <td>YISHUN ST 61</td>\n",
       "      <td>10 TO 12</td>\n",
       "      <td>142.0</td>\n",
       "      <td>APARTMENT</td>\n",
       "      <td>1987</td>\n",
       "      <td>456000</td>\n",
       "    </tr>\n",
       "    <tr>\n",
       "      <th>287192</th>\n",
       "      <td>1999-12</td>\n",
       "      <td>YISHUN</td>\n",
       "      <td>EXECUTIVE</td>\n",
       "      <td>324</td>\n",
       "      <td>YISHUN CTRL</td>\n",
       "      <td>01 TO 03</td>\n",
       "      <td>142.0</td>\n",
       "      <td>APARTMENT</td>\n",
       "      <td>1988</td>\n",
       "      <td>408000</td>\n",
       "    </tr>\n",
       "    <tr>\n",
       "      <th>287193</th>\n",
       "      <td>1999-12</td>\n",
       "      <td>YISHUN</td>\n",
       "      <td>EXECUTIVE</td>\n",
       "      <td>392</td>\n",
       "      <td>YISHUN AVE 6</td>\n",
       "      <td>07 TO 09</td>\n",
       "      <td>146.0</td>\n",
       "      <td>MAISONETTE</td>\n",
       "      <td>1988</td>\n",
       "      <td>469000</td>\n",
       "    </tr>\n",
       "    <tr>\n",
       "      <th>287194</th>\n",
       "      <td>1999-12</td>\n",
       "      <td>YISHUN</td>\n",
       "      <td>EXECUTIVE</td>\n",
       "      <td>356</td>\n",
       "      <td>YISHUN RING RD</td>\n",
       "      <td>04 TO 06</td>\n",
       "      <td>146.0</td>\n",
       "      <td>MAISONETTE</td>\n",
       "      <td>1988</td>\n",
       "      <td>440000</td>\n",
       "    </tr>\n",
       "    <tr>\n",
       "      <th>287195</th>\n",
       "      <td>1999-12</td>\n",
       "      <td>YISHUN</td>\n",
       "      <td>EXECUTIVE</td>\n",
       "      <td>358</td>\n",
       "      <td>YISHUN RING RD</td>\n",
       "      <td>01 TO 03</td>\n",
       "      <td>145.0</td>\n",
       "      <td>MAISONETTE</td>\n",
       "      <td>1988</td>\n",
       "      <td>484000</td>\n",
       "    </tr>\n",
       "  </tbody>\n",
       "</table>\n",
       "<p>287196 rows × 10 columns</p>\n",
       "</div>"
      ],
      "text/plain": [
       "          month        town  flat_type block       street_name storey_range  \\\n",
       "0       1990-01  ANG MO KIO     1 ROOM   309  ANG MO KIO AVE 1     10 TO 12   \n",
       "1       1990-01  ANG MO KIO     1 ROOM   309  ANG MO KIO AVE 1     04 TO 06   \n",
       "2       1990-01  ANG MO KIO     1 ROOM   309  ANG MO KIO AVE 1     10 TO 12   \n",
       "3       1990-01  ANG MO KIO     1 ROOM   309  ANG MO KIO AVE 1     07 TO 09   \n",
       "4       1990-01  ANG MO KIO     3 ROOM   216  ANG MO KIO AVE 1     04 TO 06   \n",
       "...         ...         ...        ...   ...               ...          ...   \n",
       "287191  1999-12      YISHUN  EXECUTIVE   611      YISHUN ST 61     10 TO 12   \n",
       "287192  1999-12      YISHUN  EXECUTIVE   324       YISHUN CTRL     01 TO 03   \n",
       "287193  1999-12      YISHUN  EXECUTIVE   392      YISHUN AVE 6     07 TO 09   \n",
       "287194  1999-12      YISHUN  EXECUTIVE   356    YISHUN RING RD     04 TO 06   \n",
       "287195  1999-12      YISHUN  EXECUTIVE   358    YISHUN RING RD     01 TO 03   \n",
       "\n",
       "        floor_area_sqm      flat_model  lease_commence_date  resale_price  \n",
       "0                 31.0        IMPROVED                 1977          9000  \n",
       "1                 31.0        IMPROVED                 1977          6000  \n",
       "2                 31.0        IMPROVED                 1977          8000  \n",
       "3                 31.0        IMPROVED                 1977          6000  \n",
       "4                 73.0  NEW GENERATION                 1976         47200  \n",
       "...                ...             ...                  ...           ...  \n",
       "287191           142.0       APARTMENT                 1987        456000  \n",
       "287192           142.0       APARTMENT                 1988        408000  \n",
       "287193           146.0      MAISONETTE                 1988        469000  \n",
       "287194           146.0      MAISONETTE                 1988        440000  \n",
       "287195           145.0      MAISONETTE                 1988        484000  \n",
       "\n",
       "[287196 rows x 10 columns]"
      ]
     },
     "execution_count": 215,
     "metadata": {},
     "output_type": "execute_result"
    }
   ],
   "source": [
    "dataset"
   ]
  },
  {
   "cell_type": "code",
   "execution_count": 216,
   "id": "9f179a2c-c551-4908-a13a-ade2be61fe34",
   "metadata": {},
   "outputs": [
    {
     "data": {
      "text/plain": [
       "array(['ANG MO KIO', 'BEDOK', 'BISHAN', 'BUKIT BATOK', 'BUKIT MERAH',\n",
       "       'BUKIT TIMAH', 'CENTRAL AREA', 'CHOA CHU KANG', 'CLEMENTI',\n",
       "       'GEYLANG', 'HOUGANG', 'JURONG EAST', 'JURONG WEST',\n",
       "       'KALLANG/WHAMPOA', 'MARINE PARADE', 'QUEENSTOWN', 'SENGKANG',\n",
       "       'SERANGOON', 'TAMPINES', 'TOA PAYOH', 'WOODLANDS', 'YISHUN',\n",
       "       'LIM CHU KANG', 'SEMBAWANG', 'BUKIT PANJANG', 'PASIR RIS'],\n",
       "      dtype=object)"
      ]
     },
     "execution_count": 216,
     "metadata": {},
     "output_type": "execute_result"
    }
   ],
   "source": [
    "dataset.town.unique() #Have to be turned into dummy variables"
   ]
  },
  {
   "cell_type": "code",
   "execution_count": 217,
   "id": "172fa4b6-c896-4316-9f15-5049e78fef86",
   "metadata": {},
   "outputs": [
    {
     "data": {
      "text/plain": [
       "array(['1 ROOM', '3 ROOM', '4 ROOM', '5 ROOM', '2 ROOM', 'EXECUTIVE',\n",
       "       'MULTI GENERATION'], dtype=object)"
      ]
     },
     "execution_count": 217,
     "metadata": {},
     "output_type": "execute_result"
    }
   ],
   "source": [
    "dataset.flat_type.unique() #ordinal data "
   ]
  },
  {
   "cell_type": "code",
   "execution_count": 218,
   "id": "29b3ee7f-ae0f-42ee-85be-a1d47b0d648d",
   "metadata": {},
   "outputs": [],
   "source": [
    "def convert(roomtype: str):\n",
    "    if roomtype=='1 ROOM':\n",
    "        return 0\n",
    "    elif roomtype=='2 ROOM':\n",
    "        return 1\n",
    "    elif roomtype == '3 ROOM':\n",
    "        return 2\n",
    "    elif roomtype == '4 ROOM':\n",
    "        return 3\n",
    "    elif roomtype == '5 ROOM':\n",
    "        return 4 \n",
    "    elif roomtype == 'EXECUTIVE':\n",
    "        return 6\n",
    "    else: return 7"
   ]
  },
  {
   "cell_type": "code",
   "execution_count": 219,
   "id": "375b6959-e34c-4b05-a97d-bde827702c13",
   "metadata": {},
   "outputs": [],
   "source": [
    "dataset['flat_type'] = dataset.flat_type.map(convert)"
   ]
  },
  {
   "cell_type": "code",
   "execution_count": 220,
   "id": "3d85f5c2-5ebc-4f8b-a141-fa06d8731695",
   "metadata": {},
   "outputs": [
    {
     "data": {
      "text/html": [
       "<div>\n",
       "<style scoped>\n",
       "    .dataframe tbody tr th:only-of-type {\n",
       "        vertical-align: middle;\n",
       "    }\n",
       "\n",
       "    .dataframe tbody tr th {\n",
       "        vertical-align: top;\n",
       "    }\n",
       "\n",
       "    .dataframe thead th {\n",
       "        text-align: right;\n",
       "    }\n",
       "</style>\n",
       "<table border=\"1\" class=\"dataframe\">\n",
       "  <thead>\n",
       "    <tr style=\"text-align: right;\">\n",
       "      <th></th>\n",
       "      <th>month</th>\n",
       "      <th>town</th>\n",
       "      <th>flat_type</th>\n",
       "      <th>block</th>\n",
       "      <th>street_name</th>\n",
       "      <th>storey_range</th>\n",
       "      <th>floor_area_sqm</th>\n",
       "      <th>flat_model</th>\n",
       "      <th>lease_commence_date</th>\n",
       "      <th>resale_price</th>\n",
       "    </tr>\n",
       "  </thead>\n",
       "  <tbody>\n",
       "    <tr>\n",
       "      <th>0</th>\n",
       "      <td>1990-01</td>\n",
       "      <td>ANG MO KIO</td>\n",
       "      <td>0</td>\n",
       "      <td>309</td>\n",
       "      <td>ANG MO KIO AVE 1</td>\n",
       "      <td>10 TO 12</td>\n",
       "      <td>31.0</td>\n",
       "      <td>IMPROVED</td>\n",
       "      <td>1977</td>\n",
       "      <td>9000</td>\n",
       "    </tr>\n",
       "    <tr>\n",
       "      <th>1</th>\n",
       "      <td>1990-01</td>\n",
       "      <td>ANG MO KIO</td>\n",
       "      <td>0</td>\n",
       "      <td>309</td>\n",
       "      <td>ANG MO KIO AVE 1</td>\n",
       "      <td>04 TO 06</td>\n",
       "      <td>31.0</td>\n",
       "      <td>IMPROVED</td>\n",
       "      <td>1977</td>\n",
       "      <td>6000</td>\n",
       "    </tr>\n",
       "    <tr>\n",
       "      <th>2</th>\n",
       "      <td>1990-01</td>\n",
       "      <td>ANG MO KIO</td>\n",
       "      <td>0</td>\n",
       "      <td>309</td>\n",
       "      <td>ANG MO KIO AVE 1</td>\n",
       "      <td>10 TO 12</td>\n",
       "      <td>31.0</td>\n",
       "      <td>IMPROVED</td>\n",
       "      <td>1977</td>\n",
       "      <td>8000</td>\n",
       "    </tr>\n",
       "    <tr>\n",
       "      <th>3</th>\n",
       "      <td>1990-01</td>\n",
       "      <td>ANG MO KIO</td>\n",
       "      <td>0</td>\n",
       "      <td>309</td>\n",
       "      <td>ANG MO KIO AVE 1</td>\n",
       "      <td>07 TO 09</td>\n",
       "      <td>31.0</td>\n",
       "      <td>IMPROVED</td>\n",
       "      <td>1977</td>\n",
       "      <td>6000</td>\n",
       "    </tr>\n",
       "    <tr>\n",
       "      <th>4</th>\n",
       "      <td>1990-01</td>\n",
       "      <td>ANG MO KIO</td>\n",
       "      <td>2</td>\n",
       "      <td>216</td>\n",
       "      <td>ANG MO KIO AVE 1</td>\n",
       "      <td>04 TO 06</td>\n",
       "      <td>73.0</td>\n",
       "      <td>NEW GENERATION</td>\n",
       "      <td>1976</td>\n",
       "      <td>47200</td>\n",
       "    </tr>\n",
       "    <tr>\n",
       "      <th>...</th>\n",
       "      <td>...</td>\n",
       "      <td>...</td>\n",
       "      <td>...</td>\n",
       "      <td>...</td>\n",
       "      <td>...</td>\n",
       "      <td>...</td>\n",
       "      <td>...</td>\n",
       "      <td>...</td>\n",
       "      <td>...</td>\n",
       "      <td>...</td>\n",
       "    </tr>\n",
       "    <tr>\n",
       "      <th>287191</th>\n",
       "      <td>1999-12</td>\n",
       "      <td>YISHUN</td>\n",
       "      <td>6</td>\n",
       "      <td>611</td>\n",
       "      <td>YISHUN ST 61</td>\n",
       "      <td>10 TO 12</td>\n",
       "      <td>142.0</td>\n",
       "      <td>APARTMENT</td>\n",
       "      <td>1987</td>\n",
       "      <td>456000</td>\n",
       "    </tr>\n",
       "    <tr>\n",
       "      <th>287192</th>\n",
       "      <td>1999-12</td>\n",
       "      <td>YISHUN</td>\n",
       "      <td>6</td>\n",
       "      <td>324</td>\n",
       "      <td>YISHUN CTRL</td>\n",
       "      <td>01 TO 03</td>\n",
       "      <td>142.0</td>\n",
       "      <td>APARTMENT</td>\n",
       "      <td>1988</td>\n",
       "      <td>408000</td>\n",
       "    </tr>\n",
       "    <tr>\n",
       "      <th>287193</th>\n",
       "      <td>1999-12</td>\n",
       "      <td>YISHUN</td>\n",
       "      <td>6</td>\n",
       "      <td>392</td>\n",
       "      <td>YISHUN AVE 6</td>\n",
       "      <td>07 TO 09</td>\n",
       "      <td>146.0</td>\n",
       "      <td>MAISONETTE</td>\n",
       "      <td>1988</td>\n",
       "      <td>469000</td>\n",
       "    </tr>\n",
       "    <tr>\n",
       "      <th>287194</th>\n",
       "      <td>1999-12</td>\n",
       "      <td>YISHUN</td>\n",
       "      <td>6</td>\n",
       "      <td>356</td>\n",
       "      <td>YISHUN RING RD</td>\n",
       "      <td>04 TO 06</td>\n",
       "      <td>146.0</td>\n",
       "      <td>MAISONETTE</td>\n",
       "      <td>1988</td>\n",
       "      <td>440000</td>\n",
       "    </tr>\n",
       "    <tr>\n",
       "      <th>287195</th>\n",
       "      <td>1999-12</td>\n",
       "      <td>YISHUN</td>\n",
       "      <td>6</td>\n",
       "      <td>358</td>\n",
       "      <td>YISHUN RING RD</td>\n",
       "      <td>01 TO 03</td>\n",
       "      <td>145.0</td>\n",
       "      <td>MAISONETTE</td>\n",
       "      <td>1988</td>\n",
       "      <td>484000</td>\n",
       "    </tr>\n",
       "  </tbody>\n",
       "</table>\n",
       "<p>287196 rows × 10 columns</p>\n",
       "</div>"
      ],
      "text/plain": [
       "          month        town  flat_type block       street_name storey_range  \\\n",
       "0       1990-01  ANG MO KIO          0   309  ANG MO KIO AVE 1     10 TO 12   \n",
       "1       1990-01  ANG MO KIO          0   309  ANG MO KIO AVE 1     04 TO 06   \n",
       "2       1990-01  ANG MO KIO          0   309  ANG MO KIO AVE 1     10 TO 12   \n",
       "3       1990-01  ANG MO KIO          0   309  ANG MO KIO AVE 1     07 TO 09   \n",
       "4       1990-01  ANG MO KIO          2   216  ANG MO KIO AVE 1     04 TO 06   \n",
       "...         ...         ...        ...   ...               ...          ...   \n",
       "287191  1999-12      YISHUN          6   611      YISHUN ST 61     10 TO 12   \n",
       "287192  1999-12      YISHUN          6   324       YISHUN CTRL     01 TO 03   \n",
       "287193  1999-12      YISHUN          6   392      YISHUN AVE 6     07 TO 09   \n",
       "287194  1999-12      YISHUN          6   356    YISHUN RING RD     04 TO 06   \n",
       "287195  1999-12      YISHUN          6   358    YISHUN RING RD     01 TO 03   \n",
       "\n",
       "        floor_area_sqm      flat_model  lease_commence_date  resale_price  \n",
       "0                 31.0        IMPROVED                 1977          9000  \n",
       "1                 31.0        IMPROVED                 1977          6000  \n",
       "2                 31.0        IMPROVED                 1977          8000  \n",
       "3                 31.0        IMPROVED                 1977          6000  \n",
       "4                 73.0  NEW GENERATION                 1976         47200  \n",
       "...                ...             ...                  ...           ...  \n",
       "287191           142.0       APARTMENT                 1987        456000  \n",
       "287192           142.0       APARTMENT                 1988        408000  \n",
       "287193           146.0      MAISONETTE                 1988        469000  \n",
       "287194           146.0      MAISONETTE                 1988        440000  \n",
       "287195           145.0      MAISONETTE                 1988        484000  \n",
       "\n",
       "[287196 rows x 10 columns]"
      ]
     },
     "execution_count": 220,
     "metadata": {},
     "output_type": "execute_result"
    }
   ],
   "source": [
    "dataset"
   ]
  },
  {
   "cell_type": "code",
   "execution_count": 221,
   "id": "9f8f58f8-adef-4b07-a952-e1f4df70798d",
   "metadata": {},
   "outputs": [
    {
     "name": "stdout",
     "output_type": "stream",
     "text": [
      "<class 'pandas.core.frame.DataFrame'>\n",
      "RangeIndex: 287196 entries, 0 to 287195\n",
      "Data columns (total 10 columns):\n",
      " #   Column               Non-Null Count   Dtype  \n",
      "---  ------               --------------   -----  \n",
      " 0   month                287196 non-null  object \n",
      " 1   town                 287196 non-null  object \n",
      " 2   flat_type            287196 non-null  int64  \n",
      " 3   block                287196 non-null  object \n",
      " 4   street_name          287196 non-null  object \n",
      " 5   storey_range         287196 non-null  object \n",
      " 6   floor_area_sqm       287196 non-null  float64\n",
      " 7   flat_model           287196 non-null  object \n",
      " 8   lease_commence_date  287196 non-null  int64  \n",
      " 9   resale_price         287196 non-null  int64  \n",
      "dtypes: float64(1), int64(3), object(6)\n",
      "memory usage: 21.9+ MB\n"
     ]
    }
   ],
   "source": [
    "dataset.info()"
   ]
  },
  {
   "cell_type": "code",
   "execution_count": 222,
   "id": "c21e3834-d545-4431-a7a8-733481fa14bc",
   "metadata": {},
   "outputs": [
    {
     "data": {
      "text/plain": [
       "array(['10 TO 12', '04 TO 06', '07 TO 09', '01 TO 03', '13 TO 15',\n",
       "       '19 TO 21', '16 TO 18', '25 TO 27', '22 TO 24'], dtype=object)"
      ]
     },
     "execution_count": 222,
     "metadata": {},
     "output_type": "execute_result"
    }
   ],
   "source": [
    "dataset.storey_range.unique()"
   ]
  },
  {
   "cell_type": "code",
   "execution_count": 223,
   "id": "039ae9f2-0b2e-4b49-9ff6-906588e0b526",
   "metadata": {},
   "outputs": [
    {
     "data": {
      "text/plain": [
       "array(['IMPROVED', 'NEW GENERATION', 'MODEL A', 'STANDARD', 'SIMPLIFIED',\n",
       "       'MODEL A-MAISONETTE', 'APARTMENT', 'MAISONETTE', 'TERRACE',\n",
       "       '2-ROOM', 'IMPROVED-MAISONETTE', 'MULTI GENERATION',\n",
       "       'PREMIUM APARTMENT'], dtype=object)"
      ]
     },
     "execution_count": 223,
     "metadata": {},
     "output_type": "execute_result"
    }
   ],
   "source": [
    "dataset.flat_model.unique()"
   ]
  },
  {
   "cell_type": "code",
   "execution_count": 224,
   "id": "c4073cb7-f120-4f26-a734-5be21c4ad9fb",
   "metadata": {},
   "outputs": [],
   "source": [
    "dataset['storey_range'] = dataset.storey_range.apply(lambda x: ['01 TO 03', '04 TO 06', '07 TO 09', '10 TO 12', '13 TO 15', '16 TO 18', '19 TO 21', '22 TO 24', '25 TO 27'].index(x))"
   ]
  },
  {
   "cell_type": "code",
   "execution_count": 225,
   "id": "5dd7d4d2-3ee5-40db-b1c7-31897e6cb420",
   "metadata": {},
   "outputs": [],
   "source": [
    "ordered_set = ['STANDARD', 'APARTMENT','IMPROVED',  '2-ROOM',  'SIMPLIFIED','TERRACE', 'MAISONETTE', 'MODEL A', 'MODEL A-MAISONETTE','NEW GENERATION', 'MULTI GENERATION', 'IMPROVED-MAISONETTE','PREMIUM APARTMENT']\n",
    "dataset['flat_model'] = dataset.flat_model.apply(lambda x: ordered_set.index(x))"
   ]
  },
  {
   "cell_type": "code",
   "execution_count": 226,
   "id": "302499b3-7a8d-49bd-8e85-8e78224eaabf",
   "metadata": {},
   "outputs": [
    {
     "data": {
      "text/plain": [
       "(1094,)"
      ]
     },
     "execution_count": 226,
     "metadata": {},
     "output_type": "execute_result"
    }
   ],
   "source": [
    "dataset.block.unique().shape"
   ]
  },
  {
   "cell_type": "code",
   "execution_count": 227,
   "id": "2be4d32c-ac26-4e65-988b-8ee84dd7622f",
   "metadata": {},
   "outputs": [],
   "source": [
    "import seaborn as sns "
   ]
  },
  {
   "cell_type": "code",
   "execution_count": 228,
   "id": "17723e5d-7aa6-4113-85d0-aad7fa392c7a",
   "metadata": {},
   "outputs": [
    {
     "data": {
      "text/plain": [
       "<AxesSubplot:>"
      ]
     },
     "execution_count": 228,
     "metadata": {},
     "output_type": "execute_result"
    },
    {
     "data": {
      "image/png": "[encoded data removed]",
      "text/plain": [
       "<Figure size 432x288 with 2 Axes>"
      ]
     },
     "metadata": {
      "needs_background": "light"
     },
     "output_type": "display_data"
    }
   ],
   "source": [
    "sns.heatmap(dataset.corr(), annot=True)"
   ]
  },
  {
   "cell_type": "code",
   "execution_count": 229,
   "id": "01fc13e3-228f-4683-8f10-c4ca185787bd",
   "metadata": {},
   "outputs": [
    {
     "data": {
      "text/html": [
       "<div>\n",
       "<style scoped>\n",
       "    .dataframe tbody tr th:only-of-type {\n",
       "        vertical-align: middle;\n",
       "    }\n",
       "\n",
       "    .dataframe tbody tr th {\n",
       "        vertical-align: top;\n",
       "    }\n",
       "\n",
       "    .dataframe thead th {\n",
       "        text-align: right;\n",
       "    }\n",
       "</style>\n",
       "<table border=\"1\" class=\"dataframe\">\n",
       "  <thead>\n",
       "    <tr style=\"text-align: right;\">\n",
       "      <th></th>\n",
       "      <th>flat_type</th>\n",
       "      <th>storey_range</th>\n",
       "      <th>floor_area_sqm</th>\n",
       "      <th>flat_model</th>\n",
       "      <th>lease_commence_date</th>\n",
       "      <th>resale_price</th>\n",
       "    </tr>\n",
       "  </thead>\n",
       "  <tbody>\n",
       "    <tr>\n",
       "      <th>flat_type</th>\n",
       "      <td>1.000000</td>\n",
       "      <td>0.026752</td>\n",
       "      <td>0.939738</td>\n",
       "      <td>-0.234347</td>\n",
       "      <td>0.499399</td>\n",
       "      <td>0.775061</td>\n",
       "    </tr>\n",
       "    <tr>\n",
       "      <th>storey_range</th>\n",
       "      <td>0.026752</td>\n",
       "      <td>1.000000</td>\n",
       "      <td>0.025709</td>\n",
       "      <td>-0.120939</td>\n",
       "      <td>-0.113565</td>\n",
       "      <td>0.062945</td>\n",
       "    </tr>\n",
       "    <tr>\n",
       "      <th>floor_area_sqm</th>\n",
       "      <td>0.939738</td>\n",
       "      <td>0.025709</td>\n",
       "      <td>1.000000</td>\n",
       "      <td>-0.134468</td>\n",
       "      <td>0.578492</td>\n",
       "      <td>0.797014</td>\n",
       "    </tr>\n",
       "    <tr>\n",
       "      <th>flat_model</th>\n",
       "      <td>-0.234347</td>\n",
       "      <td>-0.120939</td>\n",
       "      <td>-0.134468</td>\n",
       "      <td>1.000000</td>\n",
       "      <td>0.166166</td>\n",
       "      <td>-0.168893</td>\n",
       "    </tr>\n",
       "    <tr>\n",
       "      <th>lease_commence_date</th>\n",
       "      <td>0.499399</td>\n",
       "      <td>-0.113565</td>\n",
       "      <td>0.578492</td>\n",
       "      <td>0.166166</td>\n",
       "      <td>1.000000</td>\n",
       "      <td>0.505069</td>\n",
       "    </tr>\n",
       "    <tr>\n",
       "      <th>resale_price</th>\n",
       "      <td>0.775061</td>\n",
       "      <td>0.062945</td>\n",
       "      <td>0.797014</td>\n",
       "      <td>-0.168893</td>\n",
       "      <td>0.505069</td>\n",
       "      <td>1.000000</td>\n",
       "    </tr>\n",
       "  </tbody>\n",
       "</table>\n",
       "</div>"
      ],
      "text/plain": [
       "                     flat_type  storey_range  floor_area_sqm  flat_model  \\\n",
       "flat_type             1.000000      0.026752        0.939738   -0.234347   \n",
       "storey_range          0.026752      1.000000        0.025709   -0.120939   \n",
       "floor_area_sqm        0.939738      0.025709        1.000000   -0.134468   \n",
       "flat_model           -0.234347     -0.120939       -0.134468    1.000000   \n",
       "lease_commence_date   0.499399     -0.113565        0.578492    0.166166   \n",
       "resale_price          0.775061      0.062945        0.797014   -0.168893   \n",
       "\n",
       "                     lease_commence_date  resale_price  \n",
       "flat_type                       0.499399      0.775061  \n",
       "storey_range                   -0.113565      0.062945  \n",
       "floor_area_sqm                  0.578492      0.797014  \n",
       "flat_model                      0.166166     -0.168893  \n",
       "lease_commence_date             1.000000      0.505069  \n",
       "resale_price                    0.505069      1.000000  "
      ]
     },
     "execution_count": 229,
     "metadata": {},
     "output_type": "execute_result"
    }
   ],
   "source": [
    "dataset.corr()"
   ]
  },
  {
   "cell_type": "code",
   "execution_count": 230,
   "id": "d9271bc4-cd78-4701-9c7e-64d41fbb2c39",
   "metadata": {},
   "outputs": [
    {
     "data": {
      "text/html": [
       "<div>\n",
       "<style scoped>\n",
       "    .dataframe tbody tr th:only-of-type {\n",
       "        vertical-align: middle;\n",
       "    }\n",
       "\n",
       "    .dataframe tbody tr th {\n",
       "        vertical-align: top;\n",
       "    }\n",
       "\n",
       "    .dataframe thead th {\n",
       "        text-align: right;\n",
       "    }\n",
       "</style>\n",
       "<table border=\"1\" class=\"dataframe\">\n",
       "  <thead>\n",
       "    <tr style=\"text-align: right;\">\n",
       "      <th></th>\n",
       "      <th>flat_type</th>\n",
       "      <th>storey_range</th>\n",
       "      <th>floor_area_sqm</th>\n",
       "      <th>flat_model</th>\n",
       "      <th>lease_commence_date</th>\n",
       "      <th>resale_price</th>\n",
       "    </tr>\n",
       "  </thead>\n",
       "  <tbody>\n",
       "    <tr>\n",
       "      <th>count</th>\n",
       "      <td>287196.000000</td>\n",
       "      <td>287196.000000</td>\n",
       "      <td>287196.000000</td>\n",
       "      <td>287196.000000</td>\n",
       "      <td>287196.000000</td>\n",
       "      <td>287196.00000</td>\n",
       "    </tr>\n",
       "    <tr>\n",
       "      <th>mean</th>\n",
       "      <td>2.971525</td>\n",
       "      <td>1.734784</td>\n",
       "      <td>93.351778</td>\n",
       "      <td>5.357491</td>\n",
       "      <td>1983.206897</td>\n",
       "      <td>219541.67471</td>\n",
       "    </tr>\n",
       "    <tr>\n",
       "      <th>std</th>\n",
       "      <td>1.163270</td>\n",
       "      <td>1.391025</td>\n",
       "      <td>27.361872</td>\n",
       "      <td>3.131061</td>\n",
       "      <td>6.085632</td>\n",
       "      <td>128145.25346</td>\n",
       "    </tr>\n",
       "    <tr>\n",
       "      <th>min</th>\n",
       "      <td>0.000000</td>\n",
       "      <td>0.000000</td>\n",
       "      <td>28.000000</td>\n",
       "      <td>0.000000</td>\n",
       "      <td>1967.000000</td>\n",
       "      <td>5000.00000</td>\n",
       "    </tr>\n",
       "    <tr>\n",
       "      <th>25%</th>\n",
       "      <td>2.000000</td>\n",
       "      <td>1.000000</td>\n",
       "      <td>68.000000</td>\n",
       "      <td>2.000000</td>\n",
       "      <td>1979.000000</td>\n",
       "      <td>127000.00000</td>\n",
       "    </tr>\n",
       "    <tr>\n",
       "      <th>50%</th>\n",
       "      <td>3.000000</td>\n",
       "      <td>2.000000</td>\n",
       "      <td>91.000000</td>\n",
       "      <td>7.000000</td>\n",
       "      <td>1984.000000</td>\n",
       "      <td>195000.00000</td>\n",
       "    </tr>\n",
       "    <tr>\n",
       "      <th>75%</th>\n",
       "      <td>3.000000</td>\n",
       "      <td>3.000000</td>\n",
       "      <td>113.000000</td>\n",
       "      <td>9.000000</td>\n",
       "      <td>1987.000000</td>\n",
       "      <td>298000.00000</td>\n",
       "    </tr>\n",
       "    <tr>\n",
       "      <th>max</th>\n",
       "      <td>7.000000</td>\n",
       "      <td>8.000000</td>\n",
       "      <td>307.000000</td>\n",
       "      <td>12.000000</td>\n",
       "      <td>1997.000000</td>\n",
       "      <td>900000.00000</td>\n",
       "    </tr>\n",
       "  </tbody>\n",
       "</table>\n",
       "</div>"
      ],
      "text/plain": [
       "           flat_type   storey_range  floor_area_sqm     flat_model  \\\n",
       "count  287196.000000  287196.000000   287196.000000  287196.000000   \n",
       "mean        2.971525       1.734784       93.351778       5.357491   \n",
       "std         1.163270       1.391025       27.361872       3.131061   \n",
       "min         0.000000       0.000000       28.000000       0.000000   \n",
       "25%         2.000000       1.000000       68.000000       2.000000   \n",
       "50%         3.000000       2.000000       91.000000       7.000000   \n",
       "75%         3.000000       3.000000      113.000000       9.000000   \n",
       "max         7.000000       8.000000      307.000000      12.000000   \n",
       "\n",
       "       lease_commence_date  resale_price  \n",
       "count        287196.000000  287196.00000  \n",
       "mean           1983.206897  219541.67471  \n",
       "std               6.085632  128145.25346  \n",
       "min            1967.000000    5000.00000  \n",
       "25%            1979.000000  127000.00000  \n",
       "50%            1984.000000  195000.00000  \n",
       "75%            1987.000000  298000.00000  \n",
       "max            1997.000000  900000.00000  "
      ]
     },
     "execution_count": 230,
     "metadata": {},
     "output_type": "execute_result"
    }
   ],
   "source": [
    "dataset.describe()"
   ]
  },
  {
   "cell_type": "code",
   "execution_count": 231,
   "id": "c0082556-4331-4c67-a16a-3d9ee5efb5ae",
   "metadata": {},
   "outputs": [
    {
     "data": {
      "text/plain": [
       "array([[<AxesSubplot:title={'center':'flat_type'}>,\n",
       "        <AxesSubplot:title={'center':'storey_range'}>],\n",
       "       [<AxesSubplot:title={'center':'floor_area_sqm'}>,\n",
       "        <AxesSubplot:title={'center':'flat_model'}>],\n",
       "       [<AxesSubplot:title={'center':'lease_commence_date'}>,\n",
       "        <AxesSubplot:title={'center':'resale_price'}>]], dtype=object)"
      ]
     },
     "execution_count": 231,
     "metadata": {},
     "output_type": "execute_result"
    },
    {
     "data": {
      "image/png": "[encoded data removed]",
      "text/plain": [
       "<Figure size 720x864 with 6 Axes>"
      ]
     },
     "metadata": {
      "needs_background": "light"
     },
     "output_type": "display_data"
    }
   ],
   "source": [
    "dataset.hist(figsize=(10, 12))"
   ]
  },
  {
   "cell_type": "code",
   "execution_count": 232,
   "id": "42bea5b0-403d-46b4-b9c9-39a9c6650db4",
   "metadata": {},
   "outputs": [
    {
     "data": {
      "text/html": [
       "<div>\n",
       "<style scoped>\n",
       "    .dataframe tbody tr th:only-of-type {\n",
       "        vertical-align: middle;\n",
       "    }\n",
       "\n",
       "    .dataframe tbody tr th {\n",
       "        vertical-align: top;\n",
       "    }\n",
       "\n",
       "    .dataframe thead th {\n",
       "        text-align: right;\n",
       "    }\n",
       "</style>\n",
       "<table border=\"1\" class=\"dataframe\">\n",
       "  <thead>\n",
       "    <tr style=\"text-align: right;\">\n",
       "      <th></th>\n",
       "      <th>month</th>\n",
       "      <th>town</th>\n",
       "      <th>flat_type</th>\n",
       "      <th>block</th>\n",
       "      <th>street_name</th>\n",
       "      <th>storey_range</th>\n",
       "      <th>floor_area_sqm</th>\n",
       "      <th>flat_model</th>\n",
       "      <th>lease_commence_date</th>\n",
       "      <th>resale_price</th>\n",
       "    </tr>\n",
       "  </thead>\n",
       "  <tbody>\n",
       "    <tr>\n",
       "      <th>0</th>\n",
       "      <td>1990-01</td>\n",
       "      <td>ANG MO KIO</td>\n",
       "      <td>0</td>\n",
       "      <td>309</td>\n",
       "      <td>ANG MO KIO AVE 1</td>\n",
       "      <td>3</td>\n",
       "      <td>31.0</td>\n",
       "      <td>2</td>\n",
       "      <td>1977</td>\n",
       "      <td>9000</td>\n",
       "    </tr>\n",
       "    <tr>\n",
       "      <th>1</th>\n",
       "      <td>1990-01</td>\n",
       "      <td>ANG MO KIO</td>\n",
       "      <td>0</td>\n",
       "      <td>309</td>\n",
       "      <td>ANG MO KIO AVE 1</td>\n",
       "      <td>1</td>\n",
       "      <td>31.0</td>\n",
       "      <td>2</td>\n",
       "      <td>1977</td>\n",
       "      <td>6000</td>\n",
       "    </tr>\n",
       "    <tr>\n",
       "      <th>2</th>\n",
       "      <td>1990-01</td>\n",
       "      <td>ANG MO KIO</td>\n",
       "      <td>0</td>\n",
       "      <td>309</td>\n",
       "      <td>ANG MO KIO AVE 1</td>\n",
       "      <td>3</td>\n",
       "      <td>31.0</td>\n",
       "      <td>2</td>\n",
       "      <td>1977</td>\n",
       "      <td>8000</td>\n",
       "    </tr>\n",
       "    <tr>\n",
       "      <th>3</th>\n",
       "      <td>1990-01</td>\n",
       "      <td>ANG MO KIO</td>\n",
       "      <td>0</td>\n",
       "      <td>309</td>\n",
       "      <td>ANG MO KIO AVE 1</td>\n",
       "      <td>2</td>\n",
       "      <td>31.0</td>\n",
       "      <td>2</td>\n",
       "      <td>1977</td>\n",
       "      <td>6000</td>\n",
       "    </tr>\n",
       "    <tr>\n",
       "      <th>4</th>\n",
       "      <td>1990-01</td>\n",
       "      <td>ANG MO KIO</td>\n",
       "      <td>2</td>\n",
       "      <td>216</td>\n",
       "      <td>ANG MO KIO AVE 1</td>\n",
       "      <td>1</td>\n",
       "      <td>73.0</td>\n",
       "      <td>9</td>\n",
       "      <td>1976</td>\n",
       "      <td>47200</td>\n",
       "    </tr>\n",
       "    <tr>\n",
       "      <th>...</th>\n",
       "      <td>...</td>\n",
       "      <td>...</td>\n",
       "      <td>...</td>\n",
       "      <td>...</td>\n",
       "      <td>...</td>\n",
       "      <td>...</td>\n",
       "      <td>...</td>\n",
       "      <td>...</td>\n",
       "      <td>...</td>\n",
       "      <td>...</td>\n",
       "    </tr>\n",
       "    <tr>\n",
       "      <th>287191</th>\n",
       "      <td>1999-12</td>\n",
       "      <td>YISHUN</td>\n",
       "      <td>6</td>\n",
       "      <td>611</td>\n",
       "      <td>YISHUN ST 61</td>\n",
       "      <td>3</td>\n",
       "      <td>142.0</td>\n",
       "      <td>1</td>\n",
       "      <td>1987</td>\n",
       "      <td>456000</td>\n",
       "    </tr>\n",
       "    <tr>\n",
       "      <th>287192</th>\n",
       "      <td>1999-12</td>\n",
       "      <td>YISHUN</td>\n",
       "      <td>6</td>\n",
       "      <td>324</td>\n",
       "      <td>YISHUN CTRL</td>\n",
       "      <td>0</td>\n",
       "      <td>142.0</td>\n",
       "      <td>1</td>\n",
       "      <td>1988</td>\n",
       "      <td>408000</td>\n",
       "    </tr>\n",
       "    <tr>\n",
       "      <th>287193</th>\n",
       "      <td>1999-12</td>\n",
       "      <td>YISHUN</td>\n",
       "      <td>6</td>\n",
       "      <td>392</td>\n",
       "      <td>YISHUN AVE 6</td>\n",
       "      <td>2</td>\n",
       "      <td>146.0</td>\n",
       "      <td>6</td>\n",
       "      <td>1988</td>\n",
       "      <td>469000</td>\n",
       "    </tr>\n",
       "    <tr>\n",
       "      <th>287194</th>\n",
       "      <td>1999-12</td>\n",
       "      <td>YISHUN</td>\n",
       "      <td>6</td>\n",
       "      <td>356</td>\n",
       "      <td>YISHUN RING RD</td>\n",
       "      <td>1</td>\n",
       "      <td>146.0</td>\n",
       "      <td>6</td>\n",
       "      <td>1988</td>\n",
       "      <td>440000</td>\n",
       "    </tr>\n",
       "    <tr>\n",
       "      <th>287195</th>\n",
       "      <td>1999-12</td>\n",
       "      <td>YISHUN</td>\n",
       "      <td>6</td>\n",
       "      <td>358</td>\n",
       "      <td>YISHUN RING RD</td>\n",
       "      <td>0</td>\n",
       "      <td>145.0</td>\n",
       "      <td>6</td>\n",
       "      <td>1988</td>\n",
       "      <td>484000</td>\n",
       "    </tr>\n",
       "  </tbody>\n",
       "</table>\n",
       "<p>287196 rows × 10 columns</p>\n",
       "</div>"
      ],
      "text/plain": [
       "          month        town  flat_type block       street_name  storey_range  \\\n",
       "0       1990-01  ANG MO KIO          0   309  ANG MO KIO AVE 1             3   \n",
       "1       1990-01  ANG MO KIO          0   309  ANG MO KIO AVE 1             1   \n",
       "2       1990-01  ANG MO KIO          0   309  ANG MO KIO AVE 1             3   \n",
       "3       1990-01  ANG MO KIO          0   309  ANG MO KIO AVE 1             2   \n",
       "4       1990-01  ANG MO KIO          2   216  ANG MO KIO AVE 1             1   \n",
       "...         ...         ...        ...   ...               ...           ...   \n",
       "287191  1999-12      YISHUN          6   611      YISHUN ST 61             3   \n",
       "287192  1999-12      YISHUN          6   324       YISHUN CTRL             0   \n",
       "287193  1999-12      YISHUN          6   392      YISHUN AVE 6             2   \n",
       "287194  1999-12      YISHUN          6   356    YISHUN RING RD             1   \n",
       "287195  1999-12      YISHUN          6   358    YISHUN RING RD             0   \n",
       "\n",
       "        floor_area_sqm  flat_model  lease_commence_date  resale_price  \n",
       "0                 31.0           2                 1977          9000  \n",
       "1                 31.0           2                 1977          6000  \n",
       "2                 31.0           2                 1977          8000  \n",
       "3                 31.0           2                 1977          6000  \n",
       "4                 73.0           9                 1976         47200  \n",
       "...                ...         ...                  ...           ...  \n",
       "287191           142.0           1                 1987        456000  \n",
       "287192           142.0           1                 1988        408000  \n",
       "287193           146.0           6                 1988        469000  \n",
       "287194           146.0           6                 1988        440000  \n",
       "287195           145.0           6                 1988        484000  \n",
       "\n",
       "[287196 rows x 10 columns]"
      ]
     },
     "execution_count": 232,
     "metadata": {},
     "output_type": "execute_result"
    }
   ],
   "source": [
    "dataset"
   ]
  },
  {
   "cell_type": "code",
   "execution_count": 233,
   "id": "4d569829-8476-47ad-ae59-837ac6170176",
   "metadata": {},
   "outputs": [],
   "source": [
    "dataset = pd.get_dummies(dataset)\n",
    "dataset = dataset.drop(['street_name_YISHUN ST 21', 'town_YISHUN', 'block_309', 'month_1990-01'], axis=1)"
   ]
  },
  {
   "cell_type": "code",
   "execution_count": 234,
   "id": "dd13432d-b582-4131-a9da-5a12426bf1a1",
   "metadata": {},
   "outputs": [],
   "source": [
    "y = dataset.resale_price\n",
    "x = dataset.drop('resale_price', axis=1)"
   ]
  },
  {
   "cell_type": "code",
   "execution_count": 235,
   "id": "317e85c3-a50e-4875-abc2-8736b8e27bbf",
   "metadata": {},
   "outputs": [],
   "source": [
    "from sklearn.model_selection import train_test_split\n",
    "x_train, x_test, y_train, y_test = train_test_split(x, y, random_state=0, train_size = 0.75)"
   ]
  },
  {
   "cell_type": "code",
   "execution_count": 236,
   "id": "28b73960-f326-4736-861a-8b81598d750a",
   "metadata": {},
   "outputs": [
    {
     "data": {
      "text/html": [
       "<div>\n",
       "<style scoped>\n",
       "    .dataframe tbody tr th:only-of-type {\n",
       "        vertical-align: middle;\n",
       "    }\n",
       "\n",
       "    .dataframe tbody tr th {\n",
       "        vertical-align: top;\n",
       "    }\n",
       "\n",
       "    .dataframe thead th {\n",
       "        text-align: right;\n",
       "    }\n",
       "</style>\n",
       "<table border=\"1\" class=\"dataframe\">\n",
       "  <thead>\n",
       "    <tr style=\"text-align: right;\">\n",
       "      <th></th>\n",
       "      <th>flat_type</th>\n",
       "      <th>storey_range</th>\n",
       "      <th>floor_area_sqm</th>\n",
       "      <th>flat_model</th>\n",
       "      <th>lease_commence_date</th>\n",
       "      <th>month_1990-02</th>\n",
       "      <th>month_1990-03</th>\n",
       "      <th>month_1990-04</th>\n",
       "      <th>month_1990-05</th>\n",
       "      <th>month_1990-06</th>\n",
       "      <th>...</th>\n",
       "      <th>street_name_YISHUN ST 22</th>\n",
       "      <th>street_name_YISHUN ST 61</th>\n",
       "      <th>street_name_YISHUN ST 71</th>\n",
       "      <th>street_name_YISHUN ST 72</th>\n",
       "      <th>street_name_YISHUN ST 81</th>\n",
       "      <th>street_name_YUNG AN RD</th>\n",
       "      <th>street_name_YUNG HO RD</th>\n",
       "      <th>street_name_YUNG KUANG RD</th>\n",
       "      <th>street_name_YUNG PING RD</th>\n",
       "      <th>street_name_ZION RD</th>\n",
       "    </tr>\n",
       "  </thead>\n",
       "  <tbody>\n",
       "    <tr>\n",
       "      <th>71608</th>\n",
       "      <td>2</td>\n",
       "      <td>2</td>\n",
       "      <td>59.0</td>\n",
       "      <td>2</td>\n",
       "      <td>1981</td>\n",
       "      <td>0</td>\n",
       "      <td>0</td>\n",
       "      <td>0</td>\n",
       "      <td>0</td>\n",
       "      <td>0</td>\n",
       "      <td>...</td>\n",
       "      <td>0</td>\n",
       "      <td>0</td>\n",
       "      <td>0</td>\n",
       "      <td>0</td>\n",
       "      <td>0</td>\n",
       "      <td>0</td>\n",
       "      <td>0</td>\n",
       "      <td>0</td>\n",
       "      <td>0</td>\n",
       "      <td>0</td>\n",
       "    </tr>\n",
       "    <tr>\n",
       "      <th>217677</th>\n",
       "      <td>3</td>\n",
       "      <td>0</td>\n",
       "      <td>104.0</td>\n",
       "      <td>7</td>\n",
       "      <td>1986</td>\n",
       "      <td>0</td>\n",
       "      <td>0</td>\n",
       "      <td>0</td>\n",
       "      <td>0</td>\n",
       "      <td>0</td>\n",
       "      <td>...</td>\n",
       "      <td>0</td>\n",
       "      <td>0</td>\n",
       "      <td>0</td>\n",
       "      <td>0</td>\n",
       "      <td>0</td>\n",
       "      <td>0</td>\n",
       "      <td>0</td>\n",
       "      <td>0</td>\n",
       "      <td>0</td>\n",
       "      <td>0</td>\n",
       "    </tr>\n",
       "    <tr>\n",
       "      <th>162096</th>\n",
       "      <td>2</td>\n",
       "      <td>2</td>\n",
       "      <td>74.0</td>\n",
       "      <td>7</td>\n",
       "      <td>1988</td>\n",
       "      <td>0</td>\n",
       "      <td>0</td>\n",
       "      <td>0</td>\n",
       "      <td>0</td>\n",
       "      <td>0</td>\n",
       "      <td>...</td>\n",
       "      <td>0</td>\n",
       "      <td>0</td>\n",
       "      <td>0</td>\n",
       "      <td>0</td>\n",
       "      <td>0</td>\n",
       "      <td>0</td>\n",
       "      <td>0</td>\n",
       "      <td>0</td>\n",
       "      <td>0</td>\n",
       "      <td>0</td>\n",
       "    </tr>\n",
       "    <tr>\n",
       "      <th>32184</th>\n",
       "      <td>4</td>\n",
       "      <td>2</td>\n",
       "      <td>120.0</td>\n",
       "      <td>0</td>\n",
       "      <td>1977</td>\n",
       "      <td>0</td>\n",
       "      <td>0</td>\n",
       "      <td>0</td>\n",
       "      <td>0</td>\n",
       "      <td>0</td>\n",
       "      <td>...</td>\n",
       "      <td>0</td>\n",
       "      <td>0</td>\n",
       "      <td>0</td>\n",
       "      <td>0</td>\n",
       "      <td>0</td>\n",
       "      <td>0</td>\n",
       "      <td>0</td>\n",
       "      <td>0</td>\n",
       "      <td>0</td>\n",
       "      <td>0</td>\n",
       "    </tr>\n",
       "    <tr>\n",
       "      <th>230111</th>\n",
       "      <td>4</td>\n",
       "      <td>1</td>\n",
       "      <td>125.0</td>\n",
       "      <td>0</td>\n",
       "      <td>1977</td>\n",
       "      <td>0</td>\n",
       "      <td>0</td>\n",
       "      <td>0</td>\n",
       "      <td>0</td>\n",
       "      <td>0</td>\n",
       "      <td>...</td>\n",
       "      <td>0</td>\n",
       "      <td>0</td>\n",
       "      <td>0</td>\n",
       "      <td>0</td>\n",
       "      <td>0</td>\n",
       "      <td>0</td>\n",
       "      <td>0</td>\n",
       "      <td>0</td>\n",
       "      <td>0</td>\n",
       "      <td>0</td>\n",
       "    </tr>\n",
       "    <tr>\n",
       "      <th>...</th>\n",
       "      <td>...</td>\n",
       "      <td>...</td>\n",
       "      <td>...</td>\n",
       "      <td>...</td>\n",
       "      <td>...</td>\n",
       "      <td>...</td>\n",
       "      <td>...</td>\n",
       "      <td>...</td>\n",
       "      <td>...</td>\n",
       "      <td>...</td>\n",
       "      <td>...</td>\n",
       "      <td>...</td>\n",
       "      <td>...</td>\n",
       "      <td>...</td>\n",
       "      <td>...</td>\n",
       "      <td>...</td>\n",
       "      <td>...</td>\n",
       "      <td>...</td>\n",
       "      <td>...</td>\n",
       "      <td>...</td>\n",
       "      <td>...</td>\n",
       "    </tr>\n",
       "    <tr>\n",
       "      <th>211543</th>\n",
       "      <td>4</td>\n",
       "      <td>0</td>\n",
       "      <td>135.0</td>\n",
       "      <td>7</td>\n",
       "      <td>1993</td>\n",
       "      <td>0</td>\n",
       "      <td>0</td>\n",
       "      <td>0</td>\n",
       "      <td>0</td>\n",
       "      <td>0</td>\n",
       "      <td>...</td>\n",
       "      <td>0</td>\n",
       "      <td>0</td>\n",
       "      <td>0</td>\n",
       "      <td>0</td>\n",
       "      <td>0</td>\n",
       "      <td>0</td>\n",
       "      <td>0</td>\n",
       "      <td>0</td>\n",
       "      <td>0</td>\n",
       "      <td>0</td>\n",
       "    </tr>\n",
       "    <tr>\n",
       "      <th>86293</th>\n",
       "      <td>3</td>\n",
       "      <td>0</td>\n",
       "      <td>104.0</td>\n",
       "      <td>7</td>\n",
       "      <td>1987</td>\n",
       "      <td>0</td>\n",
       "      <td>0</td>\n",
       "      <td>0</td>\n",
       "      <td>0</td>\n",
       "      <td>0</td>\n",
       "      <td>...</td>\n",
       "      <td>0</td>\n",
       "      <td>0</td>\n",
       "      <td>0</td>\n",
       "      <td>0</td>\n",
       "      <td>0</td>\n",
       "      <td>0</td>\n",
       "      <td>0</td>\n",
       "      <td>0</td>\n",
       "      <td>0</td>\n",
       "      <td>0</td>\n",
       "    </tr>\n",
       "    <tr>\n",
       "      <th>122579</th>\n",
       "      <td>3</td>\n",
       "      <td>3</td>\n",
       "      <td>104.0</td>\n",
       "      <td>7</td>\n",
       "      <td>1987</td>\n",
       "      <td>0</td>\n",
       "      <td>0</td>\n",
       "      <td>0</td>\n",
       "      <td>0</td>\n",
       "      <td>0</td>\n",
       "      <td>...</td>\n",
       "      <td>0</td>\n",
       "      <td>0</td>\n",
       "      <td>0</td>\n",
       "      <td>0</td>\n",
       "      <td>0</td>\n",
       "      <td>0</td>\n",
       "      <td>0</td>\n",
       "      <td>0</td>\n",
       "      <td>0</td>\n",
       "      <td>0</td>\n",
       "    </tr>\n",
       "    <tr>\n",
       "      <th>152315</th>\n",
       "      <td>3</td>\n",
       "      <td>0</td>\n",
       "      <td>91.0</td>\n",
       "      <td>9</td>\n",
       "      <td>1980</td>\n",
       "      <td>0</td>\n",
       "      <td>0</td>\n",
       "      <td>0</td>\n",
       "      <td>0</td>\n",
       "      <td>0</td>\n",
       "      <td>...</td>\n",
       "      <td>0</td>\n",
       "      <td>0</td>\n",
       "      <td>0</td>\n",
       "      <td>0</td>\n",
       "      <td>0</td>\n",
       "      <td>0</td>\n",
       "      <td>0</td>\n",
       "      <td>0</td>\n",
       "      <td>0</td>\n",
       "      <td>0</td>\n",
       "    </tr>\n",
       "    <tr>\n",
       "      <th>117952</th>\n",
       "      <td>2</td>\n",
       "      <td>1</td>\n",
       "      <td>68.0</td>\n",
       "      <td>9</td>\n",
       "      <td>1984</td>\n",
       "      <td>0</td>\n",
       "      <td>0</td>\n",
       "      <td>0</td>\n",
       "      <td>0</td>\n",
       "      <td>0</td>\n",
       "      <td>...</td>\n",
       "      <td>0</td>\n",
       "      <td>0</td>\n",
       "      <td>0</td>\n",
       "      <td>0</td>\n",
       "      <td>0</td>\n",
       "      <td>0</td>\n",
       "      <td>0</td>\n",
       "      <td>0</td>\n",
       "      <td>0</td>\n",
       "      <td>0</td>\n",
       "    </tr>\n",
       "  </tbody>\n",
       "</table>\n",
       "<p>215397 rows × 1658 columns</p>\n",
       "</div>"
      ],
      "text/plain": [
       "        flat_type  storey_range  floor_area_sqm  flat_model  \\\n",
       "71608           2             2            59.0           2   \n",
       "217677          3             0           104.0           7   \n",
       "162096          2             2            74.0           7   \n",
       "32184           4             2           120.0           0   \n",
       "230111          4             1           125.0           0   \n",
       "...           ...           ...             ...         ...   \n",
       "211543          4             0           135.0           7   \n",
       "86293           3             0           104.0           7   \n",
       "122579          3             3           104.0           7   \n",
       "152315          3             0            91.0           9   \n",
       "117952          2             1            68.0           9   \n",
       "\n",
       "        lease_commence_date  month_1990-02  month_1990-03  month_1990-04  \\\n",
       "71608                  1981              0              0              0   \n",
       "217677                 1986              0              0              0   \n",
       "162096                 1988              0              0              0   \n",
       "32184                  1977              0              0              0   \n",
       "230111                 1977              0              0              0   \n",
       "...                     ...            ...            ...            ...   \n",
       "211543                 1993              0              0              0   \n",
       "86293                  1987              0              0              0   \n",
       "122579                 1987              0              0              0   \n",
       "152315                 1980              0              0              0   \n",
       "117952                 1984              0              0              0   \n",
       "\n",
       "        month_1990-05  month_1990-06  ...  street_name_YISHUN ST 22  \\\n",
       "71608               0              0  ...                         0   \n",
       "217677              0              0  ...                         0   \n",
       "162096              0              0  ...                         0   \n",
       "32184               0              0  ...                         0   \n",
       "230111              0              0  ...                         0   \n",
       "...               ...            ...  ...                       ...   \n",
       "211543              0              0  ...                         0   \n",
       "86293               0              0  ...                         0   \n",
       "122579              0              0  ...                         0   \n",
       "152315              0              0  ...                         0   \n",
       "117952              0              0  ...                         0   \n",
       "\n",
       "        street_name_YISHUN ST 61  street_name_YISHUN ST 71  \\\n",
       "71608                          0                         0   \n",
       "217677                         0                         0   \n",
       "162096                         0                         0   \n",
       "32184                          0                         0   \n",
       "230111                         0                         0   \n",
       "...                          ...                       ...   \n",
       "211543                         0                         0   \n",
       "86293                          0                         0   \n",
       "122579                         0                         0   \n",
       "152315                         0                         0   \n",
       "117952                         0                         0   \n",
       "\n",
       "        street_name_YISHUN ST 72  street_name_YISHUN ST 81  \\\n",
       "71608                          0                         0   \n",
       "217677                         0                         0   \n",
       "162096                         0                         0   \n",
       "32184                          0                         0   \n",
       "230111                         0                         0   \n",
       "...                          ...                       ...   \n",
       "211543                         0                         0   \n",
       "86293                          0                         0   \n",
       "122579                         0                         0   \n",
       "152315                         0                         0   \n",
       "117952                         0                         0   \n",
       "\n",
       "        street_name_YUNG AN RD  street_name_YUNG HO RD  \\\n",
       "71608                        0                       0   \n",
       "217677                       0                       0   \n",
       "162096                       0                       0   \n",
       "32184                        0                       0   \n",
       "230111                       0                       0   \n",
       "...                        ...                     ...   \n",
       "211543                       0                       0   \n",
       "86293                        0                       0   \n",
       "122579                       0                       0   \n",
       "152315                       0                       0   \n",
       "117952                       0                       0   \n",
       "\n",
       "        street_name_YUNG KUANG RD  street_name_YUNG PING RD  \\\n",
       "71608                           0                         0   \n",
       "217677                          0                         0   \n",
       "162096                          0                         0   \n",
       "32184                           0                         0   \n",
       "230111                          0                         0   \n",
       "...                           ...                       ...   \n",
       "211543                          0                         0   \n",
       "86293                           0                         0   \n",
       "122579                          0                         0   \n",
       "152315                          0                         0   \n",
       "117952                          0                         0   \n",
       "\n",
       "        street_name_ZION RD  \n",
       "71608                     0  \n",
       "217677                    0  \n",
       "162096                    0  \n",
       "32184                     0  \n",
       "230111                    0  \n",
       "...                     ...  \n",
       "211543                    0  \n",
       "86293                     0  \n",
       "122579                    0  \n",
       "152315                    0  \n",
       "117952                    0  \n",
       "\n",
       "[215397 rows x 1658 columns]"
      ]
     },
     "execution_count": 236,
     "metadata": {},
     "output_type": "execute_result"
    }
   ],
   "source": [
    "x_train"
   ]
  },
  {
   "cell_type": "code",
   "execution_count": 237,
   "id": "c4b2e287-8496-448f-88a2-71caeecbd07b",
   "metadata": {},
   "outputs": [],
   "source": [
    "from sklearn.linear_model import LinearRegression\n",
    "regressor = LinearRegression()"
   ]
  },
  {
   "cell_type": "code",
   "execution_count": 238,
   "id": "febe79c5-4646-4dca-80a1-f38b2c605926",
   "metadata": {},
   "outputs": [
    {
     "data": {
      "text/html": [
       "<style>#sk-container-id-4 {color: black;background-color: white;}#sk-container-id-4 pre{padding: 0;}#sk-container-id-4 div.sk-toggleable {background-color: white;}#sk-container-id-4 label.sk-toggleable__label {cursor: pointer;display: block;width: 100%;margin-bottom: 0;padding: 0.3em;box-sizing: border-box;text-align: center;}#sk-container-id-4 label.sk-toggleable__label-arrow:before {content: \"▸\";float: left;margin-right: 0.25em;color: #696969;}#sk-container-id-4 label.sk-toggleable__label-arrow:hover:before {color: black;}#sk-container-id-4 div.sk-estimator:hover label.sk-toggleable__label-arrow:before {color: black;}#sk-container-id-4 div.sk-toggleable__content {max-height: 0;max-width: 0;overflow: hidden;text-align: left;background-color: #f0f8ff;}#sk-container-id-4 div.sk-toggleable__content pre {margin: 0.2em;color: black;border-radius: 0.25em;background-color: #f0f8ff;}#sk-container-id-4 input.sk-toggleable__control:checked~div.sk-toggleable__content {max-height: 200px;max-width: 100%;overflow: auto;}#sk-container-id-4 input.sk-toggleable__control:checked~label.sk-toggleable__label-arrow:before {content: \"▾\";}#sk-container-id-4 div.sk-estimator input.sk-toggleable__control:checked~label.sk-toggleable__label {background-color: #d4ebff;}#sk-container-id-4 div.sk-label input.sk-toggleable__control:checked~label.sk-toggleable__label {background-color: #d4ebff;}#sk-container-id-4 input.sk-hidden--visually {border: 0;clip: rect(1px 1px 1px 1px);clip: rect(1px, 1px, 1px, 1px);height: 1px;margin: -1px;overflow: hidden;padding: 0;position: absolute;width: 1px;}#sk-container-id-4 div.sk-estimator {font-family: monospace;background-color: #f0f8ff;border: 1px dotted black;border-radius: 0.25em;box-sizing: border-box;margin-bottom: 0.5em;}#sk-container-id-4 div.sk-estimator:hover {background-color: #d4ebff;}#sk-container-id-4 div.sk-parallel-item::after {content: \"\";width: 100%;border-bottom: 1px solid gray;flex-grow: 1;}#sk-container-id-4 div.sk-label:hover label.sk-toggleable__label {background-color: #d4ebff;}#sk-container-id-4 div.sk-serial::before {content: \"\";position: absolute;border-left: 1px solid gray;box-sizing: border-box;top: 0;bottom: 0;left: 50%;z-index: 0;}#sk-container-id-4 div.sk-serial {display: flex;flex-direction: column;align-items: center;background-color: white;padding-right: 0.2em;padding-left: 0.2em;position: relative;}#sk-container-id-4 div.sk-item {position: relative;z-index: 1;}#sk-container-id-4 div.sk-parallel {display: flex;align-items: stretch;justify-content: center;background-color: white;position: relative;}#sk-container-id-4 div.sk-item::before, #sk-container-id-4 div.sk-parallel-item::before {content: \"\";position: absolute;border-left: 1px solid gray;box-sizing: border-box;top: 0;bottom: 0;left: 50%;z-index: -1;}#sk-container-id-4 div.sk-parallel-item {display: flex;flex-direction: column;z-index: 1;position: relative;background-color: white;}#sk-container-id-4 div.sk-parallel-item:first-child::after {align-self: flex-end;width: 50%;}#sk-container-id-4 div.sk-parallel-item:last-child::after {align-self: flex-start;width: 50%;}#sk-container-id-4 div.sk-parallel-item:only-child::after {width: 0;}#sk-container-id-4 div.sk-dashed-wrapped {border: 1px dashed gray;margin: 0 0.4em 0.5em 0.4em;box-sizing: border-box;padding-bottom: 0.4em;background-color: white;}#sk-container-id-4 div.sk-label label {font-family: monospace;font-weight: bold;display: inline-block;line-height: 1.2em;}#sk-container-id-4 div.sk-label-container {text-align: center;}#sk-container-id-4 div.sk-container {/* jupyter's `normalize.less` sets `[hidden] { display: none; }` but bootstrap.min.css set `[hidden] { display: none !important; }` so we also need the `!important` here to be able to override the default hidden behavior on the sphinx rendered scikit-learn.org. See: https://github.com/scikit-learn/scikit-learn/issues/21755 */display: inline-block !important;position: relative;}#sk-container-id-4 div.sk-text-repr-fallback {display: none;}</style><div id=\"sk-container-id-4\" class=\"sk-top-container\"><div class=\"sk-text-repr-fallback\"><pre>LinearRegression()</pre><b>In a Jupyter environment, please rerun this cell to show the HTML representation or trust the notebook. <br />On GitHub, the HTML representation is unable to render, please try loading this page with nbviewer.org.</b></div><div class=\"sk-container\" hidden><div class=\"sk-item\"><div class=\"sk-estimator sk-toggleable\"><input class=\"sk-toggleable__control sk-hidden--visually\" id=\"sk-estimator-id-4\" type=\"checkbox\" checked><label for=\"sk-estimator-id-4\" class=\"sk-toggleable__label sk-toggleable__label-arrow\">LinearRegression</label><div class=\"sk-toggleable__content\"><pre>LinearRegression()</pre></div></div></div></div></div>"
      ],
      "text/plain": [
       "LinearRegression()"
      ]
     },
     "execution_count": 238,
     "metadata": {},
     "output_type": "execute_result"
    }
   ],
   "source": [
    "regressor.fit(x_train, y_train)"
   ]
  },
  {
   "cell_type": "code",
   "execution_count": 239,
   "id": "8f973eec-1ef5-44e0-9ea7-02cda3af451b",
   "metadata": {},
   "outputs": [
    {
     "data": {
      "text/plain": [
       "0.94083767255216"
      ]
     },
     "execution_count": 239,
     "metadata": {},
     "output_type": "execute_result"
    }
   ],
   "source": [
    "regressor.score(x_train, y_train)"
   ]
  },
  {
   "cell_type": "code",
   "execution_count": 240,
   "id": "b671f2de-5129-4992-892c-01bb9a6e6983",
   "metadata": {},
   "outputs": [],
   "source": [
    "preds = regressor.predict(x_test)"
   ]
  },
  {
   "cell_type": "code",
   "execution_count": 241,
   "id": "43db7f78-53b3-4372-abae-0254b80c6c0c",
   "metadata": {},
   "outputs": [],
   "source": [
    "predictions = pd.DataFrame(y_test)"
   ]
  },
  {
   "cell_type": "code",
   "execution_count": 242,
   "id": "c0e84046-d363-4491-883e-f1ee3b818756",
   "metadata": {},
   "outputs": [],
   "source": [
    "predictions['preds'] = preds"
   ]
  },
  {
   "cell_type": "code",
   "execution_count": 243,
   "id": "b0c5116c-8b73-45d9-918a-d62f111ac3e5",
   "metadata": {},
   "outputs": [
    {
     "data": {
      "text/plain": [
       "-490761985771.0303"
      ]
     },
     "execution_count": 243,
     "metadata": {},
     "output_type": "execute_result"
    }
   ],
   "source": [
    "regressor.score(x_test, y_test)"
   ]
  },
  {
   "cell_type": "code",
   "execution_count": 244,
   "id": "aec12757-c2cd-43c7-be6c-f0c9ab1637d6",
   "metadata": {},
   "outputs": [
    {
     "data": {
      "text/plain": [
       "<matplotlib.collections.PathCollection at 0x2152b3a3580>"
      ]
     },
     "execution_count": 244,
     "metadata": {},
     "output_type": "execute_result"
    },
    {
     "data": {
      "image/png": "[encoded data removed]",
      "text/plain": [
       "<Figure size 432x288 with 1 Axes>"
      ]
     },
     "metadata": {
      "needs_background": "light"
     },
     "output_type": "display_data"
    }
   ],
   "source": [
    "from matplotlib import pyplot as plt \n",
    "plt.scatter(predictions.resale_price, predictions.preds, color='b')"
   ]
  },
  {
   "cell_type": "code",
   "execution_count": 245,
   "id": "e5d0a05d-7d81-4eb7-8a40-41e667f42938",
   "metadata": {},
   "outputs": [
    {
     "data": {
      "text/html": [
       "<div>\n",
       "<style scoped>\n",
       "    .dataframe tbody tr th:only-of-type {\n",
       "        vertical-align: middle;\n",
       "    }\n",
       "\n",
       "    .dataframe tbody tr th {\n",
       "        vertical-align: top;\n",
       "    }\n",
       "\n",
       "    .dataframe thead th {\n",
       "        text-align: right;\n",
       "    }\n",
       "</style>\n",
       "<table border=\"1\" class=\"dataframe\">\n",
       "  <thead>\n",
       "    <tr style=\"text-align: right;\">\n",
       "      <th></th>\n",
       "      <th>resale_price</th>\n",
       "      <th>preds</th>\n",
       "    </tr>\n",
       "  </thead>\n",
       "  <tbody>\n",
       "    <tr>\n",
       "      <th>11074</th>\n",
       "      <td>80000</td>\n",
       "      <td>55272.081988</td>\n",
       "    </tr>\n",
       "    <tr>\n",
       "      <th>239137</th>\n",
       "      <td>138200</td>\n",
       "      <td>138524.820269</td>\n",
       "    </tr>\n",
       "    <tr>\n",
       "      <th>247871</th>\n",
       "      <td>138000</td>\n",
       "      <td>143699.483599</td>\n",
       "    </tr>\n",
       "    <tr>\n",
       "      <th>222125</th>\n",
       "      <td>325000</td>\n",
       "      <td>306318.847613</td>\n",
       "    </tr>\n",
       "    <tr>\n",
       "      <th>202032</th>\n",
       "      <td>210000</td>\n",
       "      <td>222974.130175</td>\n",
       "    </tr>\n",
       "    <tr>\n",
       "      <th>...</th>\n",
       "      <td>...</td>\n",
       "      <td>...</td>\n",
       "    </tr>\n",
       "    <tr>\n",
       "      <th>247819</th>\n",
       "      <td>320000</td>\n",
       "      <td>316743.501910</td>\n",
       "    </tr>\n",
       "    <tr>\n",
       "      <th>246004</th>\n",
       "      <td>137000</td>\n",
       "      <td>139753.330035</td>\n",
       "    </tr>\n",
       "    <tr>\n",
       "      <th>75272</th>\n",
       "      <td>200000</td>\n",
       "      <td>239791.946490</td>\n",
       "    </tr>\n",
       "    <tr>\n",
       "      <th>204987</th>\n",
       "      <td>242000</td>\n",
       "      <td>234697.882769</td>\n",
       "    </tr>\n",
       "    <tr>\n",
       "      <th>206365</th>\n",
       "      <td>145000</td>\n",
       "      <td>139253.792895</td>\n",
       "    </tr>\n",
       "  </tbody>\n",
       "</table>\n",
       "<p>71799 rows × 2 columns</p>\n",
       "</div>"
      ],
      "text/plain": [
       "        resale_price          preds\n",
       "11074          80000   55272.081988\n",
       "239137        138200  138524.820269\n",
       "247871        138000  143699.483599\n",
       "222125        325000  306318.847613\n",
       "202032        210000  222974.130175\n",
       "...              ...            ...\n",
       "247819        320000  316743.501910\n",
       "246004        137000  139753.330035\n",
       "75272         200000  239791.946490\n",
       "204987        242000  234697.882769\n",
       "206365        145000  139253.792895\n",
       "\n",
       "[71799 rows x 2 columns]"
      ]
     },
     "execution_count": 245,
     "metadata": {},
     "output_type": "execute_result"
    }
   ],
   "source": [
    "predictions"
   ]
  },
  {
   "cell_type": "code",
   "execution_count": 246,
   "id": "71fd2f3f-6f29-4ade-9613-9dae93841718",
   "metadata": {},
   "outputs": [],
   "source": [
    "predictions['error'] = predictions.resale_price - predictions.preds"
   ]
  },
  {
   "cell_type": "code",
   "execution_count": 247,
   "id": "c6df0586-bef5-4849-88a7-4dd296e18665",
   "metadata": {},
   "outputs": [
    {
     "data": {
      "text/html": [
       "<div>\n",
       "<style scoped>\n",
       "    .dataframe tbody tr th:only-of-type {\n",
       "        vertical-align: middle;\n",
       "    }\n",
       "\n",
       "    .dataframe tbody tr th {\n",
       "        vertical-align: top;\n",
       "    }\n",
       "\n",
       "    .dataframe thead th {\n",
       "        text-align: right;\n",
       "    }\n",
       "</style>\n",
       "<table border=\"1\" class=\"dataframe\">\n",
       "  <thead>\n",
       "    <tr style=\"text-align: right;\">\n",
       "      <th></th>\n",
       "      <th>resale_price</th>\n",
       "      <th>preds</th>\n",
       "      <th>error</th>\n",
       "    </tr>\n",
       "  </thead>\n",
       "  <tbody>\n",
       "    <tr>\n",
       "      <th>11074</th>\n",
       "      <td>80000</td>\n",
       "      <td>55272.081988</td>\n",
       "      <td>24727.918012</td>\n",
       "    </tr>\n",
       "    <tr>\n",
       "      <th>239137</th>\n",
       "      <td>138200</td>\n",
       "      <td>138524.820269</td>\n",
       "      <td>-324.820269</td>\n",
       "    </tr>\n",
       "    <tr>\n",
       "      <th>247871</th>\n",
       "      <td>138000</td>\n",
       "      <td>143699.483599</td>\n",
       "      <td>-5699.483599</td>\n",
       "    </tr>\n",
       "    <tr>\n",
       "      <th>222125</th>\n",
       "      <td>325000</td>\n",
       "      <td>306318.847613</td>\n",
       "      <td>18681.152387</td>\n",
       "    </tr>\n",
       "    <tr>\n",
       "      <th>202032</th>\n",
       "      <td>210000</td>\n",
       "      <td>222974.130175</td>\n",
       "      <td>-12974.130175</td>\n",
       "    </tr>\n",
       "    <tr>\n",
       "      <th>...</th>\n",
       "      <td>...</td>\n",
       "      <td>...</td>\n",
       "      <td>...</td>\n",
       "    </tr>\n",
       "    <tr>\n",
       "      <th>247819</th>\n",
       "      <td>320000</td>\n",
       "      <td>316743.501910</td>\n",
       "      <td>3256.498090</td>\n",
       "    </tr>\n",
       "    <tr>\n",
       "      <th>246004</th>\n",
       "      <td>137000</td>\n",
       "      <td>139753.330035</td>\n",
       "      <td>-2753.330035</td>\n",
       "    </tr>\n",
       "    <tr>\n",
       "      <th>75272</th>\n",
       "      <td>200000</td>\n",
       "      <td>239791.946490</td>\n",
       "      <td>-39791.946490</td>\n",
       "    </tr>\n",
       "    <tr>\n",
       "      <th>204987</th>\n",
       "      <td>242000</td>\n",
       "      <td>234697.882769</td>\n",
       "      <td>7302.117231</td>\n",
       "    </tr>\n",
       "    <tr>\n",
       "      <th>206365</th>\n",
       "      <td>145000</td>\n",
       "      <td>139253.792895</td>\n",
       "      <td>5746.207105</td>\n",
       "    </tr>\n",
       "  </tbody>\n",
       "</table>\n",
       "<p>71799 rows × 3 columns</p>\n",
       "</div>"
      ],
      "text/plain": [
       "        resale_price          preds         error\n",
       "11074          80000   55272.081988  24727.918012\n",
       "239137        138200  138524.820269   -324.820269\n",
       "247871        138000  143699.483599  -5699.483599\n",
       "222125        325000  306318.847613  18681.152387\n",
       "202032        210000  222974.130175 -12974.130175\n",
       "...              ...            ...           ...\n",
       "247819        320000  316743.501910   3256.498090\n",
       "246004        137000  139753.330035  -2753.330035\n",
       "75272         200000  239791.946490 -39791.946490\n",
       "204987        242000  234697.882769   7302.117231\n",
       "206365        145000  139253.792895   5746.207105\n",
       "\n",
       "[71799 rows x 3 columns]"
      ]
     },
     "execution_count": 247,
     "metadata": {},
     "output_type": "execute_result"
    }
   ],
   "source": [
    "predictions"
   ]
  },
  {
   "cell_type": "code",
   "execution_count": 248,
   "id": "f72a6029-c7d1-4d32-ae5c-3bdd1ac42646",
   "metadata": {},
   "outputs": [],
   "source": [
    "import numpy as np \n",
    "SSE = np.sum(predictions.error**2)"
   ]
  },
  {
   "cell_type": "code",
   "execution_count": 249,
   "id": "c6752a11-c34a-443f-8bbc-659929610b5e",
   "metadata": {},
   "outputs": [],
   "source": [
    "Se = (SSE/71797)**0.5"
   ]
  },
  {
   "cell_type": "code",
   "execution_count": 250,
   "id": "7baaa916-5338-4f6a-99e2-740089fb76de",
   "metadata": {},
   "outputs": [],
   "source": [
    "mean_err = np.mean(predictions.error)"
   ]
  },
  {
   "cell_type": "code",
   "execution_count": 251,
   "id": "9f102ccf-29ff-4689-88b0-5cd86c846ac6",
   "metadata": {},
   "outputs": [
    {
     "data": {
      "text/plain": [
       "89788835396.74144"
      ]
     },
     "execution_count": 251,
     "metadata": {},
     "output_type": "execute_result"
    }
   ],
   "source": [
    "Se"
   ]
  },
  {
   "cell_type": "code",
   "execution_count": 252,
   "id": "4d8344d3-1c49-4c7c-bda9-7837321683d0",
   "metadata": {},
   "outputs": [
    {
     "data": {
      "text/plain": [
       "5.788299241597589e+26"
      ]
     },
     "execution_count": 252,
     "metadata": {},
     "output_type": "execute_result"
    }
   ],
   "source": [
    "SSE"
   ]
  },
  {
   "cell_type": "code",
   "execution_count": 253,
   "id": "da2f459a-a5a5-46ca-a887-6d0f01ff6876",
   "metadata": {},
   "outputs": [
    {
     "data": {
      "text/plain": [
       "-335086662.25801516"
      ]
     },
     "execution_count": 253,
     "metadata": {},
     "output_type": "execute_result"
    }
   ],
   "source": [
    "mean_err"
   ]
  },
  {
   "cell_type": "code",
   "execution_count": 254,
   "id": "e2c1947e-28fd-48e1-acf5-ab1f298b0d3c",
   "metadata": {},
   "outputs": [],
   "source": [
    "y_bar = np.mean(predictions.resale_price)"
   ]
  },
  {
   "cell_type": "code",
   "execution_count": 255,
   "id": "4c85ee52-4d8d-480d-a05f-05b4abfb7371",
   "metadata": {},
   "outputs": [],
   "source": [
    "den = np.sum((predictions.resale_price - y_bar)**2)"
   ]
  },
  {
   "cell_type": "code",
   "execution_count": 256,
   "id": "9e413850-0329-4ac0-8f46-2ba8f1e8e4bd",
   "metadata": {},
   "outputs": [],
   "source": [
    "num = np.sum((predictions.resale_price - predictions.preds)**2)"
   ]
  },
  {
   "cell_type": "code",
   "execution_count": 257,
   "id": "55effa31-5f3e-43d8-ac08-1b641a70592a",
   "metadata": {},
   "outputs": [],
   "source": [
    "score = 1 - num/den"
   ]
  },
  {
   "cell_type": "code",
   "execution_count": 258,
   "id": "f9984379-8f35-49fb-8ad7-8259dd5c7ab0",
   "metadata": {},
   "outputs": [
    {
     "data": {
      "text/plain": [
       "-490761985771.0303"
      ]
     },
     "execution_count": 258,
     "metadata": {},
     "output_type": "execute_result"
    }
   ],
   "source": [
    "score"
   ]
  },
  {
   "cell_type": "code",
   "execution_count": 259,
   "id": "55ca81c3-b287-487f-8f9f-7522d87c9b7b",
   "metadata": {},
   "outputs": [
    {
     "data": {
      "text/plain": [
       "5.788299241597589e+26"
      ]
     },
     "execution_count": 259,
     "metadata": {},
     "output_type": "execute_result"
    }
   ],
   "source": [
    "num"
   ]
  },
  {
   "cell_type": "code",
   "execution_count": 260,
   "id": "c89c1022-6bbb-43ea-9a54-90437287c835",
   "metadata": {},
   "outputs": [
    {
     "data": {
      "text/plain": [
       "1179451426436761.8"
      ]
     },
     "execution_count": 260,
     "metadata": {},
     "output_type": "execute_result"
    }
   ],
   "source": [
    "den"
   ]
  },
  {
   "cell_type": "code",
   "execution_count": 261,
   "id": "e8343e4f-ded2-448a-b7a6-c4d9009aab53",
   "metadata": {},
   "outputs": [],
   "source": [
    "predictions['mean_error'] = predictions.resale_price - y_bar"
   ]
  },
  {
   "cell_type": "code",
   "execution_count": 262,
   "id": "c03e4c17-7aa8-41d3-8773-6ea34144fdba",
   "metadata": {},
   "outputs": [
    {
     "data": {
      "text/html": [
       "<div>\n",
       "<style scoped>\n",
       "    .dataframe tbody tr th:only-of-type {\n",
       "        vertical-align: middle;\n",
       "    }\n",
       "\n",
       "    .dataframe tbody tr th {\n",
       "        vertical-align: top;\n",
       "    }\n",
       "\n",
       "    .dataframe thead th {\n",
       "        text-align: right;\n",
       "    }\n",
       "</style>\n",
       "<table border=\"1\" class=\"dataframe\">\n",
       "  <thead>\n",
       "    <tr style=\"text-align: right;\">\n",
       "      <th></th>\n",
       "      <th>resale_price</th>\n",
       "      <th>preds</th>\n",
       "      <th>error</th>\n",
       "      <th>mean_error</th>\n",
       "    </tr>\n",
       "  </thead>\n",
       "  <tbody>\n",
       "    <tr>\n",
       "      <th>11074</th>\n",
       "      <td>80000</td>\n",
       "      <td>55272.081988</td>\n",
       "      <td>24727.918012</td>\n",
       "      <td>-140056.419435</td>\n",
       "    </tr>\n",
       "    <tr>\n",
       "      <th>239137</th>\n",
       "      <td>138200</td>\n",
       "      <td>138524.820269</td>\n",
       "      <td>-324.820269</td>\n",
       "      <td>-81856.419435</td>\n",
       "    </tr>\n",
       "    <tr>\n",
       "      <th>247871</th>\n",
       "      <td>138000</td>\n",
       "      <td>143699.483599</td>\n",
       "      <td>-5699.483599</td>\n",
       "      <td>-82056.419435</td>\n",
       "    </tr>\n",
       "    <tr>\n",
       "      <th>222125</th>\n",
       "      <td>325000</td>\n",
       "      <td>306318.847613</td>\n",
       "      <td>18681.152387</td>\n",
       "      <td>104943.580565</td>\n",
       "    </tr>\n",
       "    <tr>\n",
       "      <th>202032</th>\n",
       "      <td>210000</td>\n",
       "      <td>222974.130175</td>\n",
       "      <td>-12974.130175</td>\n",
       "      <td>-10056.419435</td>\n",
       "    </tr>\n",
       "    <tr>\n",
       "      <th>...</th>\n",
       "      <td>...</td>\n",
       "      <td>...</td>\n",
       "      <td>...</td>\n",
       "      <td>...</td>\n",
       "    </tr>\n",
       "    <tr>\n",
       "      <th>247819</th>\n",
       "      <td>320000</td>\n",
       "      <td>316743.501910</td>\n",
       "      <td>3256.498090</td>\n",
       "      <td>99943.580565</td>\n",
       "    </tr>\n",
       "    <tr>\n",
       "      <th>246004</th>\n",
       "      <td>137000</td>\n",
       "      <td>139753.330035</td>\n",
       "      <td>-2753.330035</td>\n",
       "      <td>-83056.419435</td>\n",
       "    </tr>\n",
       "    <tr>\n",
       "      <th>75272</th>\n",
       "      <td>200000</td>\n",
       "      <td>239791.946490</td>\n",
       "      <td>-39791.946490</td>\n",
       "      <td>-20056.419435</td>\n",
       "    </tr>\n",
       "    <tr>\n",
       "      <th>204987</th>\n",
       "      <td>242000</td>\n",
       "      <td>234697.882769</td>\n",
       "      <td>7302.117231</td>\n",
       "      <td>21943.580565</td>\n",
       "    </tr>\n",
       "    <tr>\n",
       "      <th>206365</th>\n",
       "      <td>145000</td>\n",
       "      <td>139253.792895</td>\n",
       "      <td>5746.207105</td>\n",
       "      <td>-75056.419435</td>\n",
       "    </tr>\n",
       "  </tbody>\n",
       "</table>\n",
       "<p>71799 rows × 4 columns</p>\n",
       "</div>"
      ],
      "text/plain": [
       "        resale_price          preds         error     mean_error\n",
       "11074          80000   55272.081988  24727.918012 -140056.419435\n",
       "239137        138200  138524.820269   -324.820269  -81856.419435\n",
       "247871        138000  143699.483599  -5699.483599  -82056.419435\n",
       "222125        325000  306318.847613  18681.152387  104943.580565\n",
       "202032        210000  222974.130175 -12974.130175  -10056.419435\n",
       "...              ...            ...           ...            ...\n",
       "247819        320000  316743.501910   3256.498090   99943.580565\n",
       "246004        137000  139753.330035  -2753.330035  -83056.419435\n",
       "75272         200000  239791.946490 -39791.946490  -20056.419435\n",
       "204987        242000  234697.882769   7302.117231   21943.580565\n",
       "206365        145000  139253.792895   5746.207105  -75056.419435\n",
       "\n",
       "[71799 rows x 4 columns]"
      ]
     },
     "execution_count": 262,
     "metadata": {},
     "output_type": "execute_result"
    }
   ],
   "source": [
    "predictions"
   ]
  },
  {
   "cell_type": "code",
   "execution_count": 263,
   "id": "9f32c61e-8a40-494f-8ae5-f076887947f3",
   "metadata": {},
   "outputs": [
    {
     "data": {
      "text/plain": [
       "1179451426436761.8"
      ]
     },
     "execution_count": 263,
     "metadata": {},
     "output_type": "execute_result"
    }
   ],
   "source": [
    "np.sum(predictions.mean_error**2)"
   ]
  },
  {
   "cell_type": "code",
   "execution_count": 264,
   "id": "5ac09154-a1dc-4d51-bada-2618b95b5dc2",
   "metadata": {},
   "outputs": [
    {
     "data": {
      "text/plain": [
       "5.788299241597589e+26"
      ]
     },
     "execution_count": 264,
     "metadata": {},
     "output_type": "execute_result"
    }
   ],
   "source": [
    "np.sum(predictions.error**2)"
   ]
  },
  {
   "cell_type": "code",
   "execution_count": 265,
   "id": "b4bb435c-61aa-4487-84fb-6c4f03f3d874",
   "metadata": {},
   "outputs": [
    {
     "data": {
      "text/plain": [
       "<matplotlib.collections.PathCollection at 0x21508cb0310>"
      ]
     },
     "execution_count": 265,
     "metadata": {},
     "output_type": "execute_result"
    },
    {
     "data": {
      "image/png": "[encoded data removed]",
      "text/plain": [
       "<Figure size 432x288 with 1 Axes>"
      ]
     },
     "metadata": {
      "needs_background": "light"
     },
     "output_type": "display_data"
    }
   ],
   "source": [
    "from matplotlib import pyplot as plt \n",
    "plt.scatter(predictions.resale_price, predictions.preds, color='b')\n",
    "plt.scatter(predictions.resale_price, predictions.error, color='r')"
   ]
  },
  {
   "cell_type": "code",
   "execution_count": 266,
   "id": "7a0f29a1-4ce1-4686-b3ef-f023ad89de78",
   "metadata": {},
   "outputs": [
    {
     "data": {
      "text/html": [
       "<div>\n",
       "<style scoped>\n",
       "    .dataframe tbody tr th:only-of-type {\n",
       "        vertical-align: middle;\n",
       "    }\n",
       "\n",
       "    .dataframe tbody tr th {\n",
       "        vertical-align: top;\n",
       "    }\n",
       "\n",
       "    .dataframe thead th {\n",
       "        text-align: right;\n",
       "    }\n",
       "</style>\n",
       "<table border=\"1\" class=\"dataframe\">\n",
       "  <thead>\n",
       "    <tr style=\"text-align: right;\">\n",
       "      <th></th>\n",
       "      <th>resale_price</th>\n",
       "      <th>preds</th>\n",
       "      <th>error</th>\n",
       "      <th>mean_error</th>\n",
       "    </tr>\n",
       "  </thead>\n",
       "  <tbody>\n",
       "    <tr>\n",
       "      <th>count</th>\n",
       "      <td>71799.000000</td>\n",
       "      <td>7.179900e+04</td>\n",
       "      <td>7.179900e+04</td>\n",
       "      <td>7.179900e+04</td>\n",
       "    </tr>\n",
       "    <tr>\n",
       "      <th>mean</th>\n",
       "      <td>220056.419435</td>\n",
       "      <td>3.353067e+08</td>\n",
       "      <td>-3.350867e+08</td>\n",
       "      <td>-1.434620e-11</td>\n",
       "    </tr>\n",
       "    <tr>\n",
       "      <th>std</th>\n",
       "      <td>128169.254021</td>\n",
       "      <td>8.978759e+10</td>\n",
       "      <td>8.978758e+10</td>\n",
       "      <td>1.281693e+05</td>\n",
       "    </tr>\n",
       "    <tr>\n",
       "      <th>min</th>\n",
       "      <td>5000.000000</td>\n",
       "      <td>-1.136233e+05</td>\n",
       "      <td>-2.405888e+13</td>\n",
       "      <td>-2.150564e+05</td>\n",
       "    </tr>\n",
       "    <tr>\n",
       "      <th>25%</th>\n",
       "      <td>127000.000000</td>\n",
       "      <td>1.362222e+05</td>\n",
       "      <td>-1.637889e+04</td>\n",
       "      <td>-9.305642e+04</td>\n",
       "    </tr>\n",
       "    <tr>\n",
       "      <th>50%</th>\n",
       "      <td>195000.000000</td>\n",
       "      <td>2.126765e+05</td>\n",
       "      <td>-8.668867e+02</td>\n",
       "      <td>-2.505642e+04</td>\n",
       "    </tr>\n",
       "    <tr>\n",
       "      <th>75%</th>\n",
       "      <td>300000.000000</td>\n",
       "      <td>2.997663e+05</td>\n",
       "      <td>1.607324e+04</td>\n",
       "      <td>7.994358e+04</td>\n",
       "    </tr>\n",
       "    <tr>\n",
       "      <th>max</th>\n",
       "      <td>870000.000000</td>\n",
       "      <td>2.405889e+13</td>\n",
       "      <td>2.542442e+05</td>\n",
       "      <td>6.499436e+05</td>\n",
       "    </tr>\n",
       "  </tbody>\n",
       "</table>\n",
       "</div>"
      ],
      "text/plain": [
       "        resale_price         preds         error    mean_error\n",
       "count   71799.000000  7.179900e+04  7.179900e+04  7.179900e+04\n",
       "mean   220056.419435  3.353067e+08 -3.350867e+08 -1.434620e-11\n",
       "std    128169.254021  8.978759e+10  8.978758e+10  1.281693e+05\n",
       "min      5000.000000 -1.136233e+05 -2.405888e+13 -2.150564e+05\n",
       "25%    127000.000000  1.362222e+05 -1.637889e+04 -9.305642e+04\n",
       "50%    195000.000000  2.126765e+05 -8.668867e+02 -2.505642e+04\n",
       "75%    300000.000000  2.997663e+05  1.607324e+04  7.994358e+04\n",
       "max    870000.000000  2.405889e+13  2.542442e+05  6.499436e+05"
      ]
     },
     "execution_count": 266,
     "metadata": {},
     "output_type": "execute_result"
    }
   ],
   "source": [
    "predictions.describe()"
   ]
  },
  {
   "cell_type": "code",
   "execution_count": 267,
   "id": "c0b924dd-ca66-4053-92e7-f280d242a79d",
   "metadata": {},
   "outputs": [
    {
     "data": {
      "text/html": [
       "<div>\n",
       "<style scoped>\n",
       "    .dataframe tbody tr th:only-of-type {\n",
       "        vertical-align: middle;\n",
       "    }\n",
       "\n",
       "    .dataframe tbody tr th {\n",
       "        vertical-align: top;\n",
       "    }\n",
       "\n",
       "    .dataframe thead th {\n",
       "        text-align: right;\n",
       "    }\n",
       "</style>\n",
       "<table border=\"1\" class=\"dataframe\">\n",
       "  <thead>\n",
       "    <tr style=\"text-align: right;\">\n",
       "      <th></th>\n",
       "      <th>resale_price</th>\n",
       "      <th>preds</th>\n",
       "      <th>error</th>\n",
       "      <th>mean_error</th>\n",
       "    </tr>\n",
       "  </thead>\n",
       "  <tbody>\n",
       "    <tr>\n",
       "      <th>119896</th>\n",
       "      <td>505000</td>\n",
       "      <td>2.405889e+13</td>\n",
       "      <td>-2.405888e+13</td>\n",
       "      <td>284943.580565</td>\n",
       "    </tr>\n",
       "  </tbody>\n",
       "</table>\n",
       "</div>"
      ],
      "text/plain": [
       "        resale_price         preds         error     mean_error\n",
       "119896        505000  2.405889e+13 -2.405888e+13  284943.580565"
      ]
     },
     "execution_count": 267,
     "metadata": {},
     "output_type": "execute_result"
    }
   ],
   "source": [
    "predictions[(predictions.preds > 870000)]"
   ]
  },
  {
   "cell_type": "code",
   "execution_count": 268,
   "id": "9bbe6105-3b30-40b5-a84c-2974989cde30",
   "metadata": {},
   "outputs": [],
   "source": [
    "predictions.drop(predictions[predictions.preds > 870000].index, inplace=True)"
   ]
  },
  {
   "cell_type": "raw",
   "id": "9ccf4e38-6c86-411d-9a37-911dc90706f8",
   "metadata": {},
   "source": [
    "predictions"
   ]
  },
  {
   "cell_type": "code",
   "execution_count": 269,
   "id": "d22eb91c-dd80-48b9-8eb6-bb89423cb2bc",
   "metadata": {},
   "outputs": [
    {
     "data": {
      "text/html": [
       "<div>\n",
       "<style scoped>\n",
       "    .dataframe tbody tr th:only-of-type {\n",
       "        vertical-align: middle;\n",
       "    }\n",
       "\n",
       "    .dataframe tbody tr th {\n",
       "        vertical-align: top;\n",
       "    }\n",
       "\n",
       "    .dataframe thead th {\n",
       "        text-align: right;\n",
       "    }\n",
       "</style>\n",
       "<table border=\"1\" class=\"dataframe\">\n",
       "  <thead>\n",
       "    <tr style=\"text-align: right;\">\n",
       "      <th></th>\n",
       "      <th>resale_price</th>\n",
       "      <th>preds</th>\n",
       "      <th>error</th>\n",
       "      <th>mean_error</th>\n",
       "    </tr>\n",
       "  </thead>\n",
       "  <tbody>\n",
       "    <tr>\n",
       "      <th>11074</th>\n",
       "      <td>80000</td>\n",
       "      <td>55272.081988</td>\n",
       "      <td>24727.918012</td>\n",
       "      <td>-140056.419435</td>\n",
       "    </tr>\n",
       "    <tr>\n",
       "      <th>239137</th>\n",
       "      <td>138200</td>\n",
       "      <td>138524.820269</td>\n",
       "      <td>-324.820269</td>\n",
       "      <td>-81856.419435</td>\n",
       "    </tr>\n",
       "    <tr>\n",
       "      <th>247871</th>\n",
       "      <td>138000</td>\n",
       "      <td>143699.483599</td>\n",
       "      <td>-5699.483599</td>\n",
       "      <td>-82056.419435</td>\n",
       "    </tr>\n",
       "    <tr>\n",
       "      <th>222125</th>\n",
       "      <td>325000</td>\n",
       "      <td>306318.847613</td>\n",
       "      <td>18681.152387</td>\n",
       "      <td>104943.580565</td>\n",
       "    </tr>\n",
       "    <tr>\n",
       "      <th>202032</th>\n",
       "      <td>210000</td>\n",
       "      <td>222974.130175</td>\n",
       "      <td>-12974.130175</td>\n",
       "      <td>-10056.419435</td>\n",
       "    </tr>\n",
       "    <tr>\n",
       "      <th>...</th>\n",
       "      <td>...</td>\n",
       "      <td>...</td>\n",
       "      <td>...</td>\n",
       "      <td>...</td>\n",
       "    </tr>\n",
       "    <tr>\n",
       "      <th>247819</th>\n",
       "      <td>320000</td>\n",
       "      <td>316743.501910</td>\n",
       "      <td>3256.498090</td>\n",
       "      <td>99943.580565</td>\n",
       "    </tr>\n",
       "    <tr>\n",
       "      <th>246004</th>\n",
       "      <td>137000</td>\n",
       "      <td>139753.330035</td>\n",
       "      <td>-2753.330035</td>\n",
       "      <td>-83056.419435</td>\n",
       "    </tr>\n",
       "    <tr>\n",
       "      <th>75272</th>\n",
       "      <td>200000</td>\n",
       "      <td>239791.946490</td>\n",
       "      <td>-39791.946490</td>\n",
       "      <td>-20056.419435</td>\n",
       "    </tr>\n",
       "    <tr>\n",
       "      <th>204987</th>\n",
       "      <td>242000</td>\n",
       "      <td>234697.882769</td>\n",
       "      <td>7302.117231</td>\n",
       "      <td>21943.580565</td>\n",
       "    </tr>\n",
       "    <tr>\n",
       "      <th>206365</th>\n",
       "      <td>145000</td>\n",
       "      <td>139253.792895</td>\n",
       "      <td>5746.207105</td>\n",
       "      <td>-75056.419435</td>\n",
       "    </tr>\n",
       "  </tbody>\n",
       "</table>\n",
       "<p>71798 rows × 4 columns</p>\n",
       "</div>"
      ],
      "text/plain": [
       "        resale_price          preds         error     mean_error\n",
       "11074          80000   55272.081988  24727.918012 -140056.419435\n",
       "239137        138200  138524.820269   -324.820269  -81856.419435\n",
       "247871        138000  143699.483599  -5699.483599  -82056.419435\n",
       "222125        325000  306318.847613  18681.152387  104943.580565\n",
       "202032        210000  222974.130175 -12974.130175  -10056.419435\n",
       "...              ...            ...           ...            ...\n",
       "247819        320000  316743.501910   3256.498090   99943.580565\n",
       "246004        137000  139753.330035  -2753.330035  -83056.419435\n",
       "75272         200000  239791.946490 -39791.946490  -20056.419435\n",
       "204987        242000  234697.882769   7302.117231   21943.580565\n",
       "206365        145000  139253.792895   5746.207105  -75056.419435\n",
       "\n",
       "[71798 rows x 4 columns]"
      ]
     },
     "execution_count": 269,
     "metadata": {},
     "output_type": "execute_result"
    }
   ],
   "source": [
    "predictions"
   ]
  },
  {
   "cell_type": "code",
   "execution_count": 272,
   "id": "6cf39401-708a-41b5-a6b9-8cde2ddd7fce",
   "metadata": {},
   "outputs": [],
   "source": [
    "num = 1 - (np.sum((predictions.resale_price - predictions.preds)**2)/den)"
   ]
  },
  {
   "cell_type": "code",
   "execution_count": 273,
   "id": "a8043709-06b3-4884-8e0f-6173c84771d1",
   "metadata": {},
   "outputs": [
    {
     "data": {
      "text/plain": [
       "0.9401171901161922"
      ]
     },
     "execution_count": 273,
     "metadata": {},
     "output_type": "execute_result"
    }
   ],
   "source": [
    "num"
   ]
  },
  {
   "cell_type": "code",
   "execution_count": 276,
   "id": "1d12bf33-f8fc-4fa9-836c-2130b2a8e4c8",
   "metadata": {},
   "outputs": [],
   "source": [
    "r = num**0.5"
   ]
  },
  {
   "cell_type": "code",
   "execution_count": 277,
   "id": "7f072c02-0d69-4488-b420-24a2777a7a93",
   "metadata": {},
   "outputs": [
    {
     "data": {
      "text/plain": [
       "0.9695964057875793"
      ]
     },
     "execution_count": 277,
     "metadata": {},
     "output_type": "execute_result"
    }
   ],
   "source": [
    "r"
   ]
  },
  {
   "cell_type": "code",
   "execution_count": 282,
   "id": "ca7c7a0a-dd03-42fb-88f0-9dbe71e22a27",
   "metadata": {},
   "outputs": [
    {
     "data": {
      "text/plain": [
       "<matplotlib.collections.PathCollection at 0x21508cb3f40>"
      ]
     },
     "execution_count": 282,
     "metadata": {},
     "output_type": "execute_result"
    },
    {
     "data": {
      "image/png": "[encoded data removed]",
      "text/plain": [
       "<Figure size 432x288 with 1 Axes>"
      ]
     },
     "metadata": {
      "needs_background": "light"
     },
     "output_type": "display_data"
    }
   ],
   "source": [
    "from matplotlib import pyplot as plt \n",
    "plt.scatter(predictions.resale_price, predictions.preds, color='b')\n",
    "plt.scatter(predictions.resale_price, predictions.error, color='r')"
   ]
  },
  {
   "cell_type": "code",
   "execution_count": 283,
   "id": "beacaaf3-516f-4fbc-8d44-2d2dec197a92",
   "metadata": {},
   "outputs": [],
   "source": [
    "Se = (np.sum((predictions.resale_price - predictions.preds)**2)/71796)**0.5"
   ]
  },
  {
   "cell_type": "code",
   "execution_count": 284,
   "id": "b4b029e3-9f8c-4362-a245-2ec6c1ec1f6a",
   "metadata": {},
   "outputs": [
    {
     "data": {
      "text/plain": [
       "31364.689376971208"
      ]
     },
     "execution_count": 284,
     "metadata": {},
     "output_type": "execute_result"
    }
   ],
   "source": [
    "Se"
   ]
  },
  {
   "cell_type": "code",
   "execution_count": 285,
   "id": "732071e6-5979-4b62-9bea-7e488899135a",
   "metadata": {},
   "outputs": [],
   "source": [
    "mean = np.mean(predictions.resale_price)"
   ]
  },
  {
   "cell_type": "code",
   "execution_count": 286,
   "id": "407f213c-a1ec-488e-9535-bf6c15981890",
   "metadata": {},
   "outputs": [
    {
     "data": {
      "text/plain": [
       "220052.45075071728"
      ]
     },
     "execution_count": 286,
     "metadata": {},
     "output_type": "execute_result"
    }
   ],
   "source": [
    "mean"
   ]
  },
  {
   "cell_type": "code",
   "execution_count": 289,
   "id": "a8644d71-c5da-405b-a6e0-b11aa861c28b",
   "metadata": {},
   "outputs": [],
   "source": [
    "value = np.std(predictions.resale_price)"
   ]
  },
  {
   "cell_type": "code",
   "execution_count": 290,
   "id": "b2a86d11-8db4-4124-9952-8998f5a5f784",
   "metadata": {},
   "outputs": [
    {
     "data": {
      "text/plain": [
       "array([112216.97993721, 263849.96089424, 239722.73433174, ...,\n",
       "       283776.07705873, 296002.57417549, 154368.12105049])"
      ]
     },
     "execution_count": 290,
     "metadata": {},
     "output_type": "execute_result"
    }
   ],
   "source": [
    "regressor.predict(x_train)"
   ]
  },
  {
   "cell_type": "code",
   "execution_count": 291,
   "id": "6331636a-2c19-4f1c-94b0-918e4c2bad9e",
   "metadata": {},
   "outputs": [],
   "source": [
    "import pickle \n",
    "with open('flat-prices-regressor', 'wb') as f:\n",
    "    pickle.dump(regressor, f)"
   ]
  },
  {
   "cell_type": "code",
   "execution_count": null,
   "id": "b402a89b-f09d-4680-bc6a-7bfc9a13b8a3",
   "metadata": {},
   "outputs": [],
   "source": []
  }
 ],
 "metadata": {
  "kernelspec": {
   "display_name": "stml",
   "language": "python",
   "name": "stml"
  },
  "language_info": {
   "codemirror_mode": {
    "name": "ipython",
    "version": 3
   },
   "file_extension": ".py",
   "mimetype": "text/x-python",
   "name": "python",
   "nbconvert_exporter": "python",
   "pygments_lexer": "ipython3",
   "version": "3.10.4"
  }
 },
 "nbformat": 4,
 "nbformat_minor": 5
}
